{
 "cells": [
  {
   "cell_type": "code",
   "execution_count": 1,
   "metadata": {},
   "outputs": [],
   "source": [
    "# Prod\n",
    "file_name=\"./aoc_2010_prod.txt\""
   ]
  },
  {
   "cell_type": "code",
   "execution_count": 2,
   "metadata": {},
   "outputs": [
    {
     "name": "stdout",
     "output_type": "stream",
     "text": [
      "[83, 69, 170, 56, 43]\n",
      "107\n"
     ]
    }
   ],
   "source": [
    "with open(file_name) as f:\n",
    "    data=[int(i) for i in f.read().splitlines()]\n",
    "    print(data[:5])\n",
    "    print(len(data))"
   ]
  },
  {
   "cell_type": "code",
   "execution_count": 3,
   "metadata": {},
   "outputs": [],
   "source": [
    "data.append(0)\n",
    "data.sort()\n",
    "data.append(max(data)+3)"
   ]
  },
  {
   "cell_type": "code",
   "execution_count": 4,
   "metadata": {},
   "outputs": [
    {
     "data": {
      "text/plain": [
       "109"
      ]
     },
     "execution_count": 4,
     "metadata": {},
     "output_type": "execute_result"
    }
   ],
   "source": [
    "len(data)"
   ]
  },
  {
   "cell_type": "markdown",
   "metadata": {},
   "source": [
    "### Part 1"
   ]
  },
  {
   "cell_type": "code",
   "execution_count": 5,
   "metadata": {},
   "outputs": [],
   "source": [
    "data_diffs=[(data[i+1]-data[i]) for i in range(len(data)-1)]"
   ]
  },
  {
   "cell_type": "code",
   "execution_count": 6,
   "metadata": {},
   "outputs": [
    {
     "name": "stdout",
     "output_type": "stream",
     "text": [
      "Result :2592\n"
     ]
    }
   ],
   "source": [
    "print(f\"Result :{data_diffs.count(1)*data_diffs.count(3)}\")"
   ]
  },
  {
   "cell_type": "markdown",
   "metadata": {},
   "source": [
    "### Part 2"
   ]
  },
  {
   "cell_type": "code",
   "execution_count": 7,
   "metadata": {},
   "outputs": [],
   "source": [
    "result_part={}\n",
    "result_part[0]=1\n",
    "for idx in range (1, len(data)):\n",
    "    predecessors=[x for x in data[max(0,idx-3): idx] if data[idx]-x<4]\n",
    "    result_pred=[result_part[idx_pred] for idx_pred in predecessors]\n",
    "    result_part[data[idx]]=sum(result_pred)\n",
    "    #print(data[idx], predecessors, result_pred, result_part[data[idx]])\n",
    "result_total=result_part[data[idx]]"
   ]
  },
  {
   "cell_type": "code",
   "execution_count": 8,
   "metadata": {},
   "outputs": [
    {
     "name": "stdout",
     "output_type": "stream",
     "text": [
      "Result of part 2: 198428693313536\n"
     ]
    }
   ],
   "source": [
    "print(f\"Result of part 2: {result_total}\")"
   ]
  },
  {
   "cell_type": "code",
   "execution_count": null,
   "metadata": {},
   "outputs": [],
   "source": []
  }
 ],
 "metadata": {
  "kernelspec": {
   "display_name": "Python 3",
   "language": "python",
   "name": "python3"
  },
  "language_info": {
   "codemirror_mode": {
    "name": "ipython",
    "version": 3
   },
   "file_extension": ".py",
   "mimetype": "text/x-python",
   "name": "python",
   "nbconvert_exporter": "python",
   "pygments_lexer": "ipython3",
   "version": "3.8.5"
  }
 },
 "nbformat": 4,
 "nbformat_minor": 4
}
