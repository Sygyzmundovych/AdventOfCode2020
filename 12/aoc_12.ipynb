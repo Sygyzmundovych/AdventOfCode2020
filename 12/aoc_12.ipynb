{
 "cells": [
  {
   "cell_type": "code",
   "execution_count": 1,
   "metadata": {},
   "outputs": [],
   "source": [
    "# Prod\n",
    "\n",
    "file_name=\"./aoc_2012_prod.txt\""
   ]
  },
  {
   "cell_type": "code",
   "execution_count": 2,
   "metadata": {},
   "outputs": [
    {
     "name": "stdout",
     "output_type": "stream",
     "text": [
      "['W5', 'F66']\n",
      "778\n"
     ]
    }
   ],
   "source": [
    "with open(file_name) as f:\n",
    "    data=[i for i in f.read().splitlines()]\n",
    "    \n",
    "print(data[:2])\n",
    "print(len(data))"
   ]
  },
  {
   "cell_type": "code",
   "execution_count": 3,
   "metadata": {},
   "outputs": [],
   "source": [
    "DIRECTIONS={'N':(1,0), 'S':(-1,0), 'E':(0,1), 'W':(0,-1)}"
   ]
  },
  {
   "cell_type": "code",
   "execution_count": 4,
   "metadata": {},
   "outputs": [],
   "source": [
    "SIDES='NESW'"
   ]
  },
  {
   "cell_type": "markdown",
   "metadata": {},
   "source": [
    "#### Methods"
   ]
  },
  {
   "cell_type": "code",
   "execution_count": null,
   "metadata": {},
   "outputs": [],
   "source": []
  },
  {
   "cell_type": "markdown",
   "metadata": {},
   "source": [
    "## Part 1"
   ]
  },
  {
   "cell_type": "code",
   "execution_count": 5,
   "metadata": {},
   "outputs": [],
   "source": [
    "direction='E'\n",
    "location=[0,0]"
   ]
  },
  {
   "cell_type": "code",
   "execution_count": 6,
   "metadata": {},
   "outputs": [],
   "source": [
    "for instruction in data:\n",
    "    #print(instruction)\n",
    "    action=instruction[0]; distance=int(instruction[1:])\n",
    "    if action=='F':\n",
    "        location[0]+=distance*DIRECTIONS.get(direction)[0]\n",
    "        location[1]+=distance*DIRECTIONS.get(direction)[1]\n",
    "        #print(direction, location)\n",
    "    elif action in SIDES:\n",
    "        location[0]+=distance*DIRECTIONS.get(action)[0]\n",
    "        location[1]+=distance*DIRECTIONS.get(action)[1]\n",
    "        #print(direction, location)\n",
    "    elif action=='L':\n",
    "        direction=SIDES[(SIDES.find(direction)-int(distance/90)) % len(SIDES)]\n",
    "        #print(direction, location)    \n",
    "    elif action=='R':\n",
    "        direction=SIDES[(SIDES.find(direction)+int(distance/90)) % len(SIDES)]\n",
    "        #print(direction, location)\n",
    "    else: pass\n"
   ]
  },
  {
   "cell_type": "code",
   "execution_count": 7,
   "metadata": {},
   "outputs": [
    {
     "name": "stdout",
     "output_type": "stream",
     "text": [
      "Result for part 1: 1603\n"
     ]
    }
   ],
   "source": [
    "print(f\"Result for part 1: {sum(abs(x) for x in location)}\")"
   ]
  },
  {
   "cell_type": "code",
   "execution_count": null,
   "metadata": {},
   "outputs": [],
   "source": []
  }
 ],
 "metadata": {
  "kernelspec": {
   "display_name": "Python 3",
   "language": "python",
   "name": "python3"
  },
  "language_info": {
   "codemirror_mode": {
    "name": "ipython",
    "version": 3
   },
   "file_extension": ".py",
   "mimetype": "text/x-python",
   "name": "python",
   "nbconvert_exporter": "python",
   "pygments_lexer": "ipython3",
   "version": "3.8.5"
  }
 },
 "nbformat": 4,
 "nbformat_minor": 4
}
