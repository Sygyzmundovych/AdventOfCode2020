{
 "cells": [
  {
   "cell_type": "code",
   "execution_count": 1,
   "metadata": {},
   "outputs": [],
   "source": [
    "# Prod\n",
    "\n",
    "file_name=\"./aoc_2012_prod.txt\""
   ]
  },
  {
   "cell_type": "code",
   "execution_count": 2,
   "metadata": {},
   "outputs": [
    {
     "name": "stdout",
     "output_type": "stream",
     "text": [
      "['W5', 'F66', 'S4', 'E1', 'F78']\n",
      "778\n"
     ]
    }
   ],
   "source": [
    "with open(file_name) as f:\n",
    "    data=[i for i in f.read().splitlines()]\n",
    "    \n",
    "print(data[:5])\n",
    "print(len(data))"
   ]
  },
  {
   "cell_type": "code",
   "execution_count": 3,
   "metadata": {},
   "outputs": [],
   "source": [
    "DIRECTIONS={'N':(1,0), 'S':(-1,0), 'E':(0,1), 'W':(0,-1)}"
   ]
  },
  {
   "cell_type": "code",
   "execution_count": 4,
   "metadata": {},
   "outputs": [],
   "source": [
    "SIDES='NESW'"
   ]
  },
  {
   "cell_type": "markdown",
   "metadata": {},
   "source": [
    "## Part 1"
   ]
  },
  {
   "cell_type": "code",
   "execution_count": 5,
   "metadata": {},
   "outputs": [],
   "source": [
    "direction='E'\n",
    "location=[0,0]"
   ]
  },
  {
   "cell_type": "code",
   "execution_count": 6,
   "metadata": {},
   "outputs": [],
   "source": [
    "for instruction in data:\n",
    "    #print(instruction)\n",
    "    action=instruction[0]; units=int(instruction[1:])\n",
    "    if action=='F':\n",
    "        location[0]+=units*DIRECTIONS.get(direction)[0]\n",
    "        location[1]+=units*DIRECTIONS.get(direction)[1]\n",
    "        #print(direction, location)\n",
    "    elif action in SIDES:\n",
    "        location[0]+=units*DIRECTIONS.get(action)[0]\n",
    "        location[1]+=units*DIRECTIONS.get(action)[1]\n",
    "        #print(direction, location)\n",
    "    elif action=='L':\n",
    "        direction=SIDES[(SIDES.find(direction)-int(units/90)) % len(SIDES)]\n",
    "        #print(direction, location)    \n",
    "    elif action=='R':\n",
    "        direction=SIDES[(SIDES.find(direction)+int(units/90)) % len(SIDES)]\n",
    "        #print(direction, location)\n",
    "    else: pass"
   ]
  },
  {
   "cell_type": "code",
   "execution_count": 7,
   "metadata": {},
   "outputs": [
    {
     "name": "stdout",
     "output_type": "stream",
     "text": [
      "Result for part 1: 1603\n"
     ]
    }
   ],
   "source": [
    "print(f\"Result for part 1: {sum(abs(x) for x in location)}\")"
   ]
  },
  {
   "cell_type": "markdown",
   "metadata": {},
   "source": [
    "## Part 2"
   ]
  },
  {
   "cell_type": "code",
   "execution_count": 8,
   "metadata": {},
   "outputs": [],
   "source": [
    "location=[0,0]\n",
    "waypoint=[1,10]"
   ]
  },
  {
   "cell_type": "code",
   "execution_count": 9,
   "metadata": {},
   "outputs": [],
   "source": [
    "turnR090=lambda : [location[0]-(waypoint[1]-location[1]), location[1]+(waypoint[0]-location[0])]\n",
    "turnR180=lambda : [location[0]-(waypoint[0]-location[0]), location[1]-(waypoint[1]-location[1])]\n",
    "turnR270=lambda : [location[0]+(waypoint[1]-location[1]), location[1]-(waypoint[0]-location[0])]"
   ]
  },
  {
   "cell_type": "code",
   "execution_count": 10,
   "metadata": {},
   "outputs": [],
   "source": [
    "for instruction in data:\n",
    "    #print(instruction)\n",
    "    action=instruction[0]; units=int(instruction[1:])\n",
    "    if action=='F':\n",
    "        delta0=waypoint[0]-location[0]\n",
    "        delta1=waypoint[1]-location[1]\n",
    "        location[0]+=units*(delta0)\n",
    "        location[1]+=units*(delta1)\n",
    "        waypoint[0]=location[0]+delta0\n",
    "        waypoint[1]=location[1]+delta1\n",
    "        #print(waypoint, location) \n",
    "        \n",
    "    elif action in SIDES:\n",
    "        waypoint[0]+=units*DIRECTIONS.get(action)[0]\n",
    "        waypoint[1]+=units*DIRECTIONS.get(action)[1] \n",
    "        #print(waypoint, location) \n",
    "        \n",
    "    elif action in 'RL':\n",
    "        waypoint={\n",
    "            ('R',  90): turnR090,\n",
    "            ('L', 270): turnR090,\n",
    "            ('R', 180): turnR180,\n",
    "            ('L', 180): turnR180,\n",
    "            ('R', 270): turnR270,\n",
    "            ('L',  90): turnR270\n",
    "        }.get((action,units), waypoint)()\n",
    "        #print(waypoint, location) \n",
    "        \n",
    "    else: pass"
   ]
  },
  {
   "cell_type": "code",
   "execution_count": 11,
   "metadata": {},
   "outputs": [
    {
     "name": "stdout",
     "output_type": "stream",
     "text": [
      "Result for part 2: 52866\n"
     ]
    }
   ],
   "source": [
    "print(f\"Result for part 2: {sum(abs(x) for x in location)}\")"
   ]
  },
  {
   "cell_type": "code",
   "execution_count": null,
   "metadata": {},
   "outputs": [],
   "source": []
  }
 ],
 "metadata": {
  "kernelspec": {
   "display_name": "Python 3",
   "language": "python",
   "name": "python3"
  },
  "language_info": {
   "codemirror_mode": {
    "name": "ipython",
    "version": 3
   },
   "file_extension": ".py",
   "mimetype": "text/x-python",
   "name": "python",
   "nbconvert_exporter": "python",
   "pygments_lexer": "ipython3",
   "version": "3.8.5"
  }
 },
 "nbformat": 4,
 "nbformat_minor": 4
}
