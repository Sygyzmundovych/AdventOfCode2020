{
 "cells": [
  {
   "cell_type": "code",
   "execution_count": 1,
   "metadata": {},
   "outputs": [
    {
     "name": "stdout",
     "output_type": "stream",
     "text": [
      "['nop -555', 'acc -16', 'jmp +1']\n",
      "649\n"
     ]
    }
   ],
   "source": [
    "with open(\"./aoc_2008_prod.txt\") as f:\n",
    "    data=f.read().splitlines()\n",
    "    print(data[-3:])\n",
    "    print(len(data))"
   ]
  },
  {
   "cell_type": "markdown",
   "metadata": {},
   "source": [
    "### Part 1"
   ]
  },
  {
   "cell_type": "code",
   "execution_count": 2,
   "metadata": {},
   "outputs": [
    {
     "name": "stdout",
     "output_type": "stream",
     "text": [
      "Accumulator value is: 1563\n",
      "Infinite loop at 273\n"
     ]
    }
   ],
   "source": [
    "result=0\n",
    "pointer=0\n",
    "steps_executed=set()\n",
    "\n",
    "while not (pointer in steps_executed) and (pointer<(len(data))):\n",
    "    steps_executed.add(pointer)\n",
    "    instruction=data[pointer]\n",
    "    operation=instruction[:3]\n",
    "    argument=instruction[4:]\n",
    "    #print(operation, argument)\n",
    "    if operation=='nop': \n",
    "        pointer+=1\n",
    "    elif operation=='acc':\n",
    "        result+=int(argument)\n",
    "        pointer+=1\n",
    "    elif operation=='jmp':\n",
    "        pointer+=int(argument)\n",
    "\n",
    "print(f\"Accumulator value is: {result}\")\n",
    "if pointer<(len(data)):\n",
    "    print(f'Infinite loop at {pointer}')\n",
    "else:\n",
    "    print('Program finished!')"
   ]
  },
  {
   "cell_type": "markdown",
   "metadata": {},
   "source": [
    "### Part 2"
   ]
  },
  {
   "cell_type": "code",
   "execution_count": 3,
   "metadata": {},
   "outputs": [],
   "source": [
    "def is_prog_ok(prog: list())->(bool, int):\n",
    "    result=0\n",
    "    pointer=0\n",
    "    steps_executed=set()\n",
    "\n",
    "    while not (pointer in steps_executed) and (pointer<(len(data))):\n",
    "        steps_executed.add(pointer)\n",
    "        instruction=prog[pointer]\n",
    "        operation=instruction[:3]\n",
    "        argument=instruction[4:]\n",
    "        #print(operation, argument)\n",
    "        if operation=='nop': \n",
    "            pointer+=1\n",
    "        elif operation=='acc':\n",
    "            result+=int(argument)\n",
    "            pointer+=1\n",
    "        elif operation=='jmp':\n",
    "            pointer+=int(argument)\n",
    "\n",
    "    #print(f\"Accumulator value is: {result}\")\n",
    "    if pointer<(len(data)):\n",
    "        #print(f'Infinite loop at {pointer}')\n",
    "        return (False, result)\n",
    "    else:\n",
    "        print('Program finished!')    \n",
    "        return (True, result)"
   ]
  },
  {
   "cell_type": "code",
   "execution_count": 4,
   "metadata": {},
   "outputs": [
    {
     "data": {
      "text/plain": [
       "(False, 1563)"
      ]
     },
     "execution_count": 4,
     "metadata": {},
     "output_type": "execute_result"
    }
   ],
   "source": [
    "is_prog_ok(data)"
   ]
  },
  {
   "cell_type": "raw",
   "metadata": {},
   "source": [
    "data[len(data)-2]='nop -4'\n",
    "print(data)"
   ]
  },
  {
   "cell_type": "code",
   "execution_count": 5,
   "metadata": {},
   "outputs": [
    {
     "name": "stdout",
     "output_type": "stream",
     "text": [
      "Program finished!\n",
      "Reuslt: 767\n"
     ]
    }
   ],
   "source": [
    "for i in range(len(data)):\n",
    "    if data[i][:3]=='nop':\n",
    "        data_copy=data.copy()\n",
    "        data_copy[i]='jmp'+data_copy[i][3:]\n",
    "        (success, result)=is_prog_ok(data_copy)\n",
    "        if success: \n",
    "            print(f\"Reuslt: {result}\")\n",
    "            break\n",
    "    elif data[i][:3]=='jmp':\n",
    "        data_copy=data.copy()\n",
    "        data_copy[i]='nop'+data_copy[i][3:]\n",
    "        (success, result)=is_prog_ok(data_copy)\n",
    "        if success: \n",
    "            print(f\"Reuslt: {result}\")\n",
    "            break\n",
    "    else:\n",
    "        continue"
   ]
  },
  {
   "cell_type": "code",
   "execution_count": null,
   "metadata": {},
   "outputs": [],
   "source": []
  }
 ],
 "metadata": {
  "kernelspec": {
   "display_name": "Python 3",
   "language": "python",
   "name": "python3"
  },
  "language_info": {
   "codemirror_mode": {
    "name": "ipython",
    "version": 3
   },
   "file_extension": ".py",
   "mimetype": "text/x-python",
   "name": "python",
   "nbconvert_exporter": "python",
   "pygments_lexer": "ipython3",
   "version": "3.8.5"
  }
 },
 "nbformat": 4,
 "nbformat_minor": 4
}
