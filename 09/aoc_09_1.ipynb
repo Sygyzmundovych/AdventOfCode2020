{
 "cells": [
  {
   "cell_type": "code",
   "execution_count": 1,
   "metadata": {},
   "outputs": [],
   "source": [
    "# Prod\n",
    "file_name=\"./aoc_2009_prod.txt\"\n",
    "PREAMBLE_LEN=25"
   ]
  },
  {
   "cell_type": "code",
   "execution_count": 2,
   "metadata": {},
   "outputs": [
    {
     "name": "stdout",
     "output_type": "stream",
     "text": [
      "[44, 17, 23, 42, 25]\n",
      "1000\n"
     ]
    }
   ],
   "source": [
    "with open(file_name) as f:\n",
    "    data=[int(i) for i in f.read().splitlines()]\n",
    "    print(data[:5])\n",
    "    print(len(data))"
   ]
  },
  {
   "cell_type": "markdown",
   "metadata": {},
   "source": [
    "### Part 1"
   ]
  },
  {
   "cell_type": "code",
   "execution_count": 3,
   "metadata": {},
   "outputs": [
    {
     "name": "stdout",
     "output_type": "stream",
     "text": [
      "Part 1 result: 26134589 at position 503\n"
     ]
    }
   ],
   "source": [
    "for idx in range(PREAMBLE_LEN, len(data)):\n",
    "    number=int(data[idx])\n",
    "    preamble=[int(n) for n in data[idx-PREAMBLE_LEN:idx] if int(n)<number]\n",
    "    #print(number, preamble)\n",
    "    if not(any(j in preamble for j in ((number-i) for i in preamble))):\n",
    "        print(f\"Part 1 result: {number} at position {idx}\")\n",
    "        break"
   ]
  },
  {
   "cell_type": "markdown",
   "metadata": {},
   "source": [
    "### Part 2"
   ]
  },
  {
   "cell_type": "code",
   "execution_count": 4,
   "metadata": {},
   "outputs": [],
   "source": [
    "def find_range()->list:\n",
    "    for idx_rev in range (len(data)-1, 0, -1):\n",
    "        if int(data[idx_rev]) < number:\n",
    "            idx_low=idx_rev-1\n",
    "            part_sum=sum(data[idx_low:idx_rev])\n",
    "            while (part_sum) <= number:\n",
    "                if part_sum == number:\n",
    "                    print(idx, data[idx_low:idx_rev])\n",
    "                    return data[idx_low:idx_rev]\n",
    "                else:\n",
    "                    idx_low-=1\n",
    "                    part_sum=sum(data[idx_low:idx_rev])"
   ]
  },
  {
   "cell_type": "code",
   "execution_count": 5,
   "metadata": {},
   "outputs": [
    {
     "name": "stdout",
     "output_type": "stream",
     "text": [
      "503 [1503494, 978652, 1057251, 1142009, 1239468, 1407633, 1048040, 1484541, 1164289, 1432864, 1792914, 2556472, 2464510, 1750429, 1753116, 1673488, 1685419]\n",
      "Part 2 result: 3535124\n"
     ]
    }
   ],
   "source": [
    "result_range=find_range()\n",
    "print(f\"Part 2 result: {min(result_range)+max(result_range)}\")"
   ]
  },
  {
   "cell_type": "code",
   "execution_count": 6,
   "metadata": {},
   "outputs": [],
   "source": [
    "#Ugly, but no time to beautify :-("
   ]
  },
  {
   "cell_type": "code",
   "execution_count": null,
   "metadata": {},
   "outputs": [],
   "source": []
  }
 ],
 "metadata": {
  "kernelspec": {
   "display_name": "Python 3",
   "language": "python",
   "name": "python3"
  },
  "language_info": {
   "codemirror_mode": {
    "name": "ipython",
    "version": 3
   },
   "file_extension": ".py",
   "mimetype": "text/x-python",
   "name": "python",
   "nbconvert_exporter": "python",
   "pygments_lexer": "ipython3",
   "version": "3.8.5"
  }
 },
 "nbformat": 4,
 "nbformat_minor": 4
}
