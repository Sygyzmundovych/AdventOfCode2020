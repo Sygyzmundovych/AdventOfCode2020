{
 "cells": [
  {
   "cell_type": "code",
   "execution_count": 1,
   "metadata": {},
   "outputs": [
    {
     "name": "stdout",
     "output_type": "stream",
     "text": [
      "['dim red bags contain 2 bright gold bags, 5 striped fuchsia bags.', 'dotted purple bags contain 5 bright olive bags, 3 faded maroon bags.', 'plaid chartreuse bags contain 1 vibrant olive bag, 5 bright black bags, 1 clear tomato bag.', 'wavy orange bags contain 4 dark lavender bags, 4 posh white bags.', 'light lavender bags contain 4 drab olive bags, 5 dark magenta bags.']\n"
     ]
    }
   ],
   "source": [
    "with open(\"./aoc_2007_prod.txt\") as f:\n",
    "    data=f.read().splitlines()\n",
    "    print(data[0:5])"
   ]
  },
  {
   "cell_type": "code",
   "execution_count": 2,
   "metadata": {},
   "outputs": [],
   "source": [
    "MY_BAG='shiny gold'"
   ]
  },
  {
   "cell_type": "markdown",
   "metadata": {},
   "source": [
    "### Part 1"
   ]
  },
  {
   "cell_type": "code",
   "execution_count": 3,
   "metadata": {},
   "outputs": [],
   "source": [
    "result=0\n",
    "\n",
    "rules=[rule.split(' contain ') for rule in data]"
   ]
  },
  {
   "cell_type": "code",
   "execution_count": 4,
   "metadata": {},
   "outputs": [],
   "source": [
    "#rules"
   ]
  },
  {
   "cell_type": "code",
   "execution_count": 5,
   "metadata": {},
   "outputs": [],
   "source": [
    "bags_to_look_for=set({MY_BAG})\n",
    "bags_result=set()"
   ]
  },
  {
   "cell_type": "code",
   "execution_count": 6,
   "metadata": {},
   "outputs": [
    {
     "name": "stdout",
     "output_type": "stream",
     "text": [
      "115\n"
     ]
    }
   ],
   "source": [
    "while len(bags_to_look_for)>0:\n",
    "    #print(bags_to_look_for, len(bags_to_look_for))\n",
    "    bags_to_look_for={rule[0].split(' bags')[0] for rule in rules if any(bag_to_look_for in rule[1] for bag_to_look_for in bags_to_look_for)}\n",
    "    bags_result=bags_result.union(bags_to_look_for)\n",
    "\n",
    "print(len(bags_result))"
   ]
  },
  {
   "cell_type": "code",
   "execution_count": 7,
   "metadata": {},
   "outputs": [
    {
     "name": "stdout",
     "output_type": "stream",
     "text": [
      "Part 1 answer: 115\n"
     ]
    }
   ],
   "source": [
    "print(f\"Part 1 answer: {len(bags_result)}\")"
   ]
  },
  {
   "cell_type": "code",
   "execution_count": null,
   "metadata": {},
   "outputs": [],
   "source": []
  }
 ],
 "metadata": {
  "kernelspec": {
   "display_name": "Python 3",
   "language": "python",
   "name": "python3"
  },
  "language_info": {
   "codemirror_mode": {
    "name": "ipython",
    "version": 3
   },
   "file_extension": ".py",
   "mimetype": "text/x-python",
   "name": "python",
   "nbconvert_exporter": "python",
   "pygments_lexer": "ipython3",
   "version": "3.8.5"
  }
 },
 "nbformat": 4,
 "nbformat_minor": 4
}
