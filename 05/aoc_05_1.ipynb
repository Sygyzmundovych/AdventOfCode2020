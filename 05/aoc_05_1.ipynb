{
 "cells": [
  {
   "cell_type": "code",
   "execution_count": 1,
   "metadata": {},
   "outputs": [
    {
     "name": "stdout",
     "output_type": "stream",
     "text": [
      "846\n"
     ]
    }
   ],
   "source": [
    "with open(\"aoc_2005_prod.txt\") as f:\n",
    "    data=f.read().splitlines()\n",
    "    print(len(data))"
   ]
  },
  {
   "cell_type": "code",
   "execution_count": 2,
   "metadata": {},
   "outputs": [
    {
     "name": "stdout",
     "output_type": "stream",
     "text": [
      "1024\n"
     ]
    }
   ],
   "source": [
    "ROWS=128\n",
    "SEATS=8\n",
    "print(ROWS*SEATS)"
   ]
  },
  {
   "cell_type": "code",
   "execution_count": 3,
   "metadata": {},
   "outputs": [],
   "source": [
    "def code2seat(code: str)->{}:\n",
    "    seat={\"row\":0, \"seat\":0, \"id\":0}\n",
    "    rows=ROWS/2\n",
    "    seats=SEATS/2\n",
    "    for c, i in enumerate(code):\n",
    "        if i=='B':\n",
    "            seat[\"row\"]+=int(rows)\n",
    "            rows/=2\n",
    "        elif i=='F':\n",
    "            rows/=2\n",
    "        elif i=='R':\n",
    "            seat[\"seat\"]+=int(seats)\n",
    "            seats/=2\n",
    "        elif i=='L':\n",
    "            seats/=2\n",
    "            \n",
    "        seat[\"id\"]=seat[\"row\"]*8+seat[\"seat\"]\n",
    "    return seat"
   ]
  },
  {
   "cell_type": "code",
   "execution_count": 4,
   "metadata": {},
   "outputs": [
    {
     "name": "stdout",
     "output_type": "stream",
     "text": [
      "Max seat id: 858\n"
     ]
    }
   ],
   "source": [
    "seats=set()\n",
    "for s in data:\n",
    "    boarding_pass=code2seat(s.split(':')[0].strip())\n",
    "    seats.add(boarding_pass[\"id\"])\n",
    "#print(sorted(seats))\n",
    "\n",
    "print(f\"Max seat id: {max(seats)}\")"
   ]
  },
  {
   "cell_type": "code",
   "execution_count": 5,
   "metadata": {},
   "outputs": [
    {
     "name": "stdout",
     "output_type": "stream",
     "text": [
      "My seat id: 557\n"
     ]
    }
   ],
   "source": [
    "for i in range(SEATS, max(seats)+1):\n",
    "    if (not i in seats) and (i-1 in seats) and (i+1 in seats): print(f\"My seat id: {i}\")"
   ]
  },
  {
   "cell_type": "code",
   "execution_count": null,
   "metadata": {},
   "outputs": [],
   "source": []
  }
 ],
 "metadata": {
  "kernelspec": {
   "display_name": "Python 3",
   "language": "python",
   "name": "python3"
  },
  "language_info": {
   "codemirror_mode": {
    "name": "ipython",
    "version": 3
   },
   "file_extension": ".py",
   "mimetype": "text/x-python",
   "name": "python",
   "nbconvert_exporter": "python",
   "pygments_lexer": "ipython3",
   "version": "3.8.5"
  }
 },
 "nbformat": 4,
 "nbformat_minor": 4
}
