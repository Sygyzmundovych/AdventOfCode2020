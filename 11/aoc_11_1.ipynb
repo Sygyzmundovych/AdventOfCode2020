{
 "cells": [
  {
   "cell_type": "code",
   "execution_count": 1,
   "metadata": {},
   "outputs": [],
   "source": [
    "# Prod\n",
    "file_name=\"./aoc_2011_prod.txt\""
   ]
  },
  {
   "cell_type": "code",
   "execution_count": 2,
   "metadata": {},
   "outputs": [
    {
     "name": "stdout",
     "output_type": "stream",
     "text": [
      "['LLLLL.LLLLLLLLL.LLLLLLLLLL.LLLLLLL.LLLLLLLLLLLLLLLLL.LLLLLLLLL.LLLLLL.LLLLLLL.LLLLLLLLLLLLLLLLLLLL', 'LLLLL.LL.L.LLLL.LLL..LLLLL.LLLLLLLLLLLLLLLLLLLLLLLLL.LLLLLLLLL.LLLLLL.LLLLLLL.LLLLLLL.LLLLLLLLLLLL']\n",
      "90 98\n"
     ]
    }
   ],
   "source": [
    "with open(file_name) as f:\n",
    "    data=[i for i in f.read().splitlines()]\n",
    "    \n",
    "print(data[:2])\n",
    "ROWS=len(data)\n",
    "SEATS=len(data[0])\n",
    "\n",
    "print(ROWS, SEATS)"
   ]
  },
  {
   "cell_type": "markdown",
   "metadata": {},
   "source": [
    "#### Methods"
   ]
  },
  {
   "cell_type": "code",
   "execution_count": 3,
   "metadata": {},
   "outputs": [],
   "source": [
    "def get_nei_seats(seat: tuple) -> list:\n",
    "    x, y = seat[0], seat[1]\n",
    "    return [(x+dx,y+dy) for dx in (range(-1,2)) for dy in (range(-1,2)) if (-1< x+dx <ROWS) and (-1< y+dy <SEATS) and (dx,dy)!=(0,0)]"
   ]
  },
  {
   "cell_type": "code",
   "execution_count": 4,
   "metadata": {},
   "outputs": [],
   "source": [
    "def change_state(seats_now: dict, seat: tuple, dist_to_taken=4) -> str:\n",
    "    new_state=seats_now.get(seat)\n",
    "    nei_seats=[seats_now.get(key) for key in get_nei_seats(seat)]\n",
    "    if new_state=='L' and not('#' in nei_seats): new_state='#'\n",
    "    elif new_state=='#' and nei_seats.count('#')>=dist_to_taken: new_state='L'\n",
    "    else: pass\n",
    "        \n",
    "    return new_state"
   ]
  },
  {
   "cell_type": "code",
   "execution_count": 5,
   "metadata": {},
   "outputs": [],
   "source": [
    "def print_map(seats_now: dict):\n",
    "    for x in range(ROWS):\n",
    "        print()\n",
    "        for y in range(SEATS):\n",
    "            print(seats_now.get((x,y)), end=\"\")"
   ]
  },
  {
   "cell_type": "markdown",
   "metadata": {},
   "source": [
    "#### Init 0th seats map"
   ]
  },
  {
   "cell_type": "code",
   "execution_count": 6,
   "metadata": {},
   "outputs": [
    {
     "name": "stdout",
     "output_type": "stream",
     "text": [
      "\n",
      "LLLLL.LLLLLLLLL.LLLLLLLLLL.LLLLLLL.LLLLLLLLLLLLLLLLL.LLLLLLLLL.LLLLLL.LLLLLLL.LLLLLLLLLLLLLLLLLLLL\n",
      "LLLLL.LL.L.LLLL.LLL..LLLLL.LLLLLLLLLLLLLLLLLLLLLLLLL.LLLLLLLLL.LLLLLL.LLLLLLL.LLLLLLL.LLLLLLLLLLLL\n",
      "LLLLL.LLLL.LLLLLLLLLLLLLLLLLLLL.L..LLLLLLLLLLLLLLLLLLLLLLLLLLL.LLLLLL.LLLLLLLLLLLLLLL.L.LLLLLLLLLL\n",
      "LLLLLLLLLL.LLLL.LLLLLLLLLL.LLLLLLL.LLLLLLLLLLLLLLLLL.LLLLLLLLL.LLLLLLLLLLLLLLLLLLLLLL.LLLLLLLLLLLL\n",
      "LLLLLLLLLLLLLLL.LLLL.LLLLL.LLLLLLL.LL.LLLLLL..LLLLLLLLLLLLL.LL.LLLLLLL.LLLLLLLLLLLLLL.LLLLLLLLLLLL\n",
      "LLLLLLLLLL.LLLL.LLLL.LLLLL.LLLLLLLLLLLLLLLLL.LLLLLLLLLLLLLLLLL.LLLLLL.LLLLLL.LLLLLLLLLLLLLLLLLLLLL\n",
      "LLLLLL.LLL.LLLL.LLLL.LLLLLLLLLLLLL.LLLLLLLLL.LLLLLLL.LLLLLL.LL.LLLL.LLLLLLL.LLLLLLLLL.LLLLLLLLLLLL\n",
      ".LL..LL.L..L.L...LL..L..L.L...LL..L...LL..LLLL.L.L.L.....L....L.LL...L.LL.LL....L...L..L....L....L\n",
      "LLLLL.LLLL.LLLLLLLLL.LLLLL.LLLLLLLLLLLLLLLLLLLLLLLLLLLLLLLLLLL.LLLLLL.LLLLLLL.LLLL.LLLLLLLLLLLLLLL\n",
      "LLLLLLLLLL.LLLL.LLLL.LLL.L.LLLLLLLLLLLLLLLLLLLLLLLLL.L.LLLLLLLLLL.LLLLLLLLLLL.LLLLLLL.LLLLLLL.LLLL\n",
      "LLLLL.LLLL.LLLL.LLLLLLLLLL.LLLLLLLLLLLLLLLLLLLLLLLLL.LLLLLLLLL.LLLLLLLLLLLLLL...LLLLLLLLLL.LLLLLLL\n",
      "LLLLLL.LLLLLLLL.LLLL.LLLLLLLL.LLLL.LLLLLLLLL..LLLL.L.LLLLLLLLL.LLLLLLL.LLLLLL.LLLLLLLLLLLLL.LLL.LL\n",
      "L.L...L.....LLL.L..LL...L......L.LLL........LL..LLL..L.LLL....L..L.L.L..L..L.LL..L.......LL..L.L..\n",
      "LLLLL.LLLLLLLLLLLLLLLLLLLLLLLLLLLL.LLLLLLLLL.LLLLLLLLLLLLLLLLL.LLLL.LLLLLLLLLLLLLLLLLLLLLLLLLLLLLL\n",
      "LLLLLLLLL.LLLLL.LLLL.LLLLL.LLLLLLL.LLLLLLLLLLLLLLLLL.LLLLLLLLL.LLLLLL.LL.LLLL.LLLLLLLLLL.LLLLLLLLL\n",
      "LLLLLLLLLL.LLLL.LLLL.LLLL.LLLLLLL.LLLLLLLLLL.LLLLLLL.LLLLLLLLL.LLLLLL.LLLLL.L.LLLLLLL.LLLLLLLLLLLL\n",
      "LLLLL.LLLLLLLLL.LLLL.LLLLL.LLLLL.LLLLLLLLLLL.LLLLLLL.LLLLLLLLLLLLLLLL.LLLLLLL..LLLLLL.LLLL.LLLLLLL\n",
      "LLLLL.LLLL.LLLL.LLLL.LLLLLLLLL.LLLLLLLLLLLLL.LLLLLLL.LLLL.LLLL.LLLLLLLLLLLLLL.LLLLLLL.LLLLLLLLLLLL\n",
      "..L..L.L........LL.L.L..LLL........L....LL..LLL.LL....L.......LL.LLLL....L...L.LL........L.L......\n",
      "LLLLL.L.LL.LLLLLLLLL.LLLLL.LLLLLLLLL.LLLLLLL.LLLLLLL.LLLLLLLLL.LLLLLL.LLLLLLLLLLLLLLL.L.LLLLLLLL.L\n",
      "LLLLL.LLLL.LLLL..LLL.LLLLLLLLLLLLL.LLLLLLLLLLLLLLLLL.LLLLLLL.LLLLLLLLLLLLLLLLLLLLLLLL.LLLLLLLLLLLL\n",
      ".LLLLLLLLL.LLLL.LLLL..LLLLLLLLLLLL.LLLLLLLLL.LLLLLLL.LLLLLLLLL.LLLL.L.L..LLLL.LLLLLLLLLLLLLLLLLLLL\n",
      "LLLLL.LLLL.LLLL.LLLL.LLLLLLL.LLLLLLLLLLLLLLL.LLLLLLL.LLLLLLLLL.LLLLLL.LLLLLLL.LLLLLLLLLLLLLL.LLLLL\n",
      ".....LL.L.LL...L..LL.LL..L...L..L.LL..LL..L.L..........L....L...L.L....L.L.L....LL.........LL..LL.\n",
      "LLLLL.LLLL.LLLL.LLLLLLLLLLLLLLLLLL.LLL.LLLLLLLLLLLLL.LLLLLLLLL.LLLLLL.LLLLLLL.L.L.LLL.LLLLLLLLLLLL\n",
      "LLLLLLLLLL.LLLL.LLLL.LLLLL.LLLLLLLLLLLLLLL.LLLL.LLLL.LLLLLLL.LLLLLLLL.LLL.LLL.LLLLLLL.LLLLLLLLLLLL\n",
      "LLLLL.LLLL.LLLLLL.LL.LLLLL.LLLLLLL.LLLLLLLLLLLLLLLLL.LL.LLLLL..LLLLLL.LLLLLLLLLLLLLLL.LLLLLLLLL.LL\n",
      "LLLLLLLL.LLLLLL.LLLL.LLLLL.LLLLLLL.LLLLLL.LL.LLLLLLLLLLLLLLL.L..LLLLLLLLLLLLL.LLLLLLL.LLLLLLLLLLLL\n",
      "LLLLL.LLLL.LLLL.LLLL.LLLLL.LLLLLLLLLLLLLLLLL.LLLLLLL.LLLLLLLLL.LLLLLL.LLL.LLLLLLLLLLL.LLLLLLLLLLLL\n",
      "L..LL.L.......L.LL..L.....L..L.L..L.L...L....LLL..........LLL.LL......L.L..L.LL..L....LL..L.......\n",
      "LLLLL.LLLL.LLLL.LLLLLLLLLL.LLLLLLL.LLLLLLLLL.LLLLLLL.LLLLLLLLLLLLLLLLLLLLLLLL.LLLLLLLLLLLLLLLLLLLL\n",
      "LLLLL.LL.L.LLL..LLLL.LLLLL.LLLLLLL.LLLLLLLLL.LLLLLLL.LLLLLLLLL.LLLLLL.LLLLLLLLLLLLLLL.LLLLLLLLLLL.\n",
      "LLLLL.LLLL.LLLL.LLLL.LLLLL.LLLLLLLLLLLLLLLLL.LLLLLLL.LLLLLLLLL.LLLLLL.LLLLLLL.LLLLLLL.L.LLLLLLLLLL\n",
      "LLLLL.LLLL.LLLL.LLLL.LLLLL.LLLLLLL.LLLLLLLLL.LLLLLLLLLLLLLLLLL.LLL.LL.LLLLLLL.LLLLLLLLLLLLLLLLLLLL\n",
      "LLLLL.LLLL.L.LL.LLLLLLLLLL.LLLLLLL.LLLLLLLLL.LLLLLLL.LLLLLLLLL.LLLLLL.LLLLLLL.LLLLLLL.LLLLLLLLLLLL\n",
      "LLLLL.LLLL.LLLL.LLL..LLLLL.LLLLLL..LLLLLLLLL.LLLLLLL.LLLLLLLLL.LLLLLL.L.LLLLL.LLLLLLLLLLLLLLLLLLLL\n",
      "LLLLLLLLLL.LLLL.LLLLLLLLLL.LLLL.L..LLLLLLLLL.LLLLLLL.LLLLLL.LLLLLLLLLLLLLLLLL.LLLLLLL.LLLLLLLLLLLL\n",
      "LLLLL.LLLL.LLLL.LLLL.LLLLLLLLLLLLL.LL.LLLLLL.L.LLLLL.LLLLLLLLLLLLLLL..LLLLLLL.LLLLLLLLLLLLLLLLLLLL\n",
      "...LLLLL..L...L..L..L.............L..L...L..L.L.L..LLL.L.....L.L.L.L.L..L.LL.L..L.L..LLL..LL...LLL\n",
      "LLLLL.LLLL.LLLL.LLLL.LLLLL.LLL.LLL.LLLLLLLLL.LL.LLLL.LLLL.LLLLLLLLLLL.LLLLLL..LLLLLLL.LLLLLLLLLLLL\n",
      "LLLLLLLLLL.L.LL.LLLLLL.LLL.LLLLLLL.LLLLLLLLL.LLLLLLLLLLLLLLLL..L.LLLL.LLLL.LL.LLLLLLL.LLLLLLLLLLLL\n",
      ".LLLLLLLLL.LLLL.LLLL.LLLLL.LL.LLLL.LLLLLLLLL.LLLLLLL.LLLLLLLLLLLLLLLLLLLLLLLL.LLLLLLL.LL.LLLLLLLLL\n",
      "LLLLL.LLLL.LLLL.LLLL.LLLLLLLL.LLLL.LLLLLLLLL.LLLLLLL.LLLLLLLLL.LLLLLL.LLLLLLLLLLLLLLL.LLLLLLLLLLLL\n",
      "LLLL..LLLLLLLLL.LLLL.LL.LL..LLLLLL.LLLLLLL.L.LLLLLLL.LLL.LLLLL.LLLLLLLLL.LLLLLLLLLLLL.LLLL.LLLLLLL\n",
      "LLLLLL.LLL.LLLL.LLLL.LLLLL.LLL...LLLLLLLLLLLLLLLLLLLLLLLLLLLLLLLLLLLL.LLLLLLL.LLLLLLL.LLLLLLLLLLLL\n",
      "LLLLL.LLLL.LLLL.LLLL.LLLLL.LLLLLLL.LLLLLLLLL.LLLLLLL.LLLLLLLLLLLLLLLL.LLLLLLL.LLLLLLL.LL.LLL.LLLLL\n",
      "LLLLLLLLLLLLLLLLL.LL.LLLLL.LLLLLLL.LLLLLLLLLLLLLLLLLLLLLLLLLLLLLLLLLLLLLLLLLL.LLLLLLL.LLLLLLLLLLLL\n",
      "LLLLLLLLLL..LLL.LLLL.LLLLL.LLLLLLL.LL.LLLLLLL.LLLLLL.LLLLLLLLL.LLLLLLLLLLLLLL.LLLLLLL.LLLLLLLLLLLL\n",
      ".LL..L....L..LL....L.......L........LL......L...L..............L.L...L.L....LLLL.....L......LLL..L\n",
      "LLLLL.LLLL.LLLL.LLLL.LLLLLLLLLLLLL.LLLLLLLLL.LLLLLLLLLLLL.LLL..LLLLLLLLLLLLLL.LLLLLLLLLLLLLLLLLLLL\n",
      "LLLLL.LLLLLLLLL.LLLLLLLLLL.LL.LLLL.LLLLLLLLLLLLLLLLL.LLLLLLLLL.LLLLLL.LLL.LLLLLLLLLLL.LLLLLLLLLLLL\n",
      "LLLLL.LLLL.LLLLLLLLLLLLLLL.LLLLLLL.LL.LLLLLL.LLLLLL.LLLLLLLLLL.LLLLLL.LLLLLLL.LLLLLLL.LLLLLLL.LLLL\n",
      "LLLLL.LLLL.LLLL.LLLLLLLLLL.LLLLLLL.LLLLLLLLLLLLLLLLLLLLLLLLLLLLLLLLLL.LLLLLLL.LLLLLLL.LLLLLLLLLLLL\n",
      "LLLLL.LLLLLLLLL.LLLL.LLLLL.LLLLLL..LLLLLLLLL.LLLLLLLLLLLLLLLLL.LLLLLLLLLLLLLL.LLLLLLLLLLLLL.LLLLLL\n",
      "...L.L.L.LLL..L......LLL.L..L......L...LLL....L....L..LL.L.L..L..L......L.....LL.L.....L........L.\n",
      "LL.LLLLL.L.LLLL.LLLL.LLLLL.LLL.LLL.LLLLLLLLL.LLLLLLL.LLLLLLLL..LLLLLL.LLLLLLL.LLLLLLL.L.LLLLLLLLLL\n",
      "LLLLL.LLLL.LLLLLLLLLLLLLLL.LLLLLLL.L.LLLLLL..LLLLLLL.LLLLLLLLL.LLLLLL.LLLLLLL.LLLLLLLLLLLLLLLLLLLL\n",
      "LLLLL.LLL..LLLLLLLLL.L.LLL.LLLLLLL.LLLLLLLLL.LLLLLLLLLLLLLLLLL.LLLLLL.LLLLLLLLLLLLLLL.LLLLLLLLLLLL\n",
      "LLLLL.LLL..LLLLLLLLLLLLLLLLLLLLLLL.LLLLLLLLLLLLL.LL..LLLLLLL.L.LLL.LL.LLLLL.LLLLLLLLLLLLLLLLLLLLLL\n",
      "LLLLL.LLLL.LLLLLLLLL.LLLLL.LLLLLLL.LLLLLLLLL.LLLLLLL.LLLLL.LLLLLLLLLL.LLLLLLL.LLLLLLL.L.LLLLLLLLLL\n",
      "LLLLLLLLLLLLLLL.LLLL.LLLLL.LLLLLLL.LLLLLLLLLLLLLLLLL.LLLLLLLLL.LLLLLLLLLLLLLL.LLLLLLL.LLLLLLLL.LL.\n",
      "LLLLL.LLLL.LLLL.LLLL.LLLLLLLLLLLLLLLLLLLLLLLLLLLLLLL.LLLLLLLLL.LLLLLLLLLLLLLL.LLLLLLLLL.LLLLLLL.LL\n",
      "LLLLLL.LLLLLLLLLLLLL.LLLLLLLLLLLL..LLLLLLLLL.LLLLLLLLLLLLLLLLL.LLLLLL.LLLLLLLLLLLLLLL.LLLLLLLLLLLL\n",
      "...L...L...L...LL...LL.L.L..LL..L....LL...LLLL.L........L......L..L....L.L....L...L.L.L.LLL.L..L.L\n",
      "LLLLL.L.LL.LLLL.LLLL.LLLLLLLLLLLLLLLL.LLLLLL.LLLL.LL.LL.LLLLLL.LLLLLL.LLLLLLLLLLLLLLL.LLLLLLLLLLLL\n",
      "LLLLL.LLLL.LLLL.LLLLLLLLLLLLLLLLLLLLLLLLL.LL.LLLLLLLLLLLLLLLLLLLLLLLL.LLLLLLLLL.LLLLL.LLLLLLLLLLLL\n",
      "LLLLL.LLLL.LLLLLLLLL.LLLLL.LLLL.LL.LLLLLLLLL.LLLLLLL.LLLLLLLLLLLLLLLL.LLLLLLL.LLLLLLLLLLLLLLLLLLLL\n",
      "LLLLLLLLLL.LLLL.LLLL.LLLLL.LLLLLLL.LLLLLLLLL.LLLLLLLLLLLLLLLLL.LLLLLLLLLLLLLL.LLLLLLLLLLLL.LLLLLLL\n",
      "LLLLL.LLLL.LLLL.LLLLLLLLLLLLLL.LLL.LLLLLLLLL.LLLLLLL.LLLLLLLLL.LLLLLLLLLLLLLL.LLLLLLL.LLLLLLLLLLLL\n",
      "LLLLL.LLLLLLLLL.LLLLLLLLLLLLLLLLLLLLLLLLLLLL.LLLLLLL.LLLLLLLLL.LLLLL.LLLLLLLLLLLLLLLL.LLLLLLLL.LLL\n",
      "LLLLL.LLLLLLLLLLLLLLLLLLLLLLLLLLLL.LLLLLLLLLLLLLLLLLLL.LLLLLLL.L.LLLLLLLLLLLLLLLLLLLLLLLLLLLLLLLLL\n",
      "LLLLL.LLLLLLLLL.LL.L.LLLLLLLLLLLLL.LLLLLLLLLLLLLLLLLLLLLLLLLLLLLLLLLL.LLLLLLL.LLLLLL..LLLLLLLLLLLL\n",
      "LL.L...LL..LL..L..L.L....L...L..L..LL......LL.L.......L..LL........LL.LLLLL.......L.....LL.LL.....\n",
      "LLLLL.LLLLLLL.L.LLLL.LLLLL.LLLLLLL.LLLLLLLLLLLLLLLLL.LLLLLLLL..LLLLLL.LLLLLLLLLLLL.LL.LLLLLLLLLLLL\n",
      "LLLLL.LLLLLLL.L.LLLL.LLLLL.LLLLLLL.LLLLLLLLL.LLLLLLL.LLLLLLLLLLLLLLLLLLLLLLLL.LLLLLLL.LLLLLLLLLLLL\n",
      "LLLLL.LLLL.LLLLLLLLLL.LLLL.L.LLLLL.LLLLLLLLL.LLLLLLL.LLL.LLLLL.LLLLLL.LLLLLLLLLLLLLLL.LLLLLLLLLLLL\n",
      "LLL.L.LLLLLLLLL.LLLLLLLLLLLLLLLLLL.LLLLLL.LL.LLLLLLL.LLLLLLLLL.LLLLLL.LLLLLLL.LLLLLLL.LLLLLLLL.LLL\n",
      "..L.L....LL.LL.....L.LL......L.LL..LLLLLL......LL.L.LL.LLL...LLLL......L.L.L...LL..L..L..L...LL..L\n",
      "LLLLL.LLLLLLLLL.LLL..LLLLL.LLLLLLL.LLLLLLLLL.LLLLLLL..LLLLLLLL.LLLLLLLLL.LLLL.LLLLLLL.LLLLLLLL.LLL\n",
      "LLLL..LLLL.LLLL.LLLL.LLLLL.LLLLLLLLLLLLLLLLLLLLLLLLL.LLLLLLLLL.LLLLLL.LLLLLLL.LLLLLLLLLLLLLLLLLLLL\n",
      "LLL.L.LLLL.LLLL.LLLL.LLLLL.LLLLLLL.LLLLLLLLLLLLLLL.L.LLLLLLLLLLLLLLLL.LLLLLLL.LLLLLLL.LLLLLLLLL.LL\n",
      "L.LL..LLLL.L.LLLLLLLLLLLLL.LLLLLLL.LLLLLLLL..LLL.LLL.LLLLLL.LL.LLLLLL.LLLLLLLLLLLLLLL.LLLLLLLLLLLL\n",
      "LLLLL.LLLL.LL.L.LLLL.LLLLL.LLLLLLLLLLLLLLLLLLLLLLLLL.LLLL.LLLLLLLLLL..LLLLLLL.LLLLLLL.LLLLLLLLLLLL\n",
      "L....L...L..L.L...L....L......L..LLL..L..LL.LL.L.L....L..L.L.LLL.L.LLLL.........L..LL.LLL......L..\n",
      "LLLLL.LLLL.LLLL.LLLL.LLLLL.LLLLLLL.LLLLLLLLLLLLLLLLL.LLLLL.LLLLLLLLLLLLLLLLLL.LLLLLLL.LLLLLLLLLL.L\n",
      "LLLLL.LLL..LLLL.LLLL.LLLLL.LLLLLLL.LLLLLLLLLL.LLLL.LLLLLLLLLLLLLLLLLL.LLLLLLL.LLLLLLL.LLLLLLLLL.LL\n",
      "LLLLL.LLLLLL.LL.LLLL.LLLLL.LLLLLLL.L.LLLLLLL.LLLLLLLLLLLLLLLLLLLLLLLLLLLLLLLLLLLLLLLL.LLLLLLLLLLLL\n",
      "LLLLL.LLLL.LLLLLLLLL.LLLLL.LLLLLLL.LLLLLLLL.LLLLLLLL.LLLLLLLLL.LLLLLL.LL.LLLLLLLLLLLL.LLLLLLLLLLLL\n",
      "LLLLL.LLLL.LLLL.LLLL.LLLLL.LLLLLLL.LLLLLLLLLLLLLLLLL.LLLLLLLLL.LLLLLL.LLLLLLL.LLLLLLLLLLLLLLLLLLLL\n",
      "LLLLLLLLLLLL.LLLLLLL.LLLLLL.LLLLLLLLLLLLLLLL.LLLLL.LLLLLLLLLLL.LLLLLLLLLLLLLL.LLLLLLL.LLLLLLLLLLLL"
     ]
    }
   ],
   "source": [
    "seats_map=list()\n",
    "seats_map.append({})\n",
    "for row_id in range(len(data)):\n",
    "    seats_map[0].update({(row_id,idx):value for idx, value in enumerate(data[row_id])})\n",
    "print_map(seats_map[0])"
   ]
  },
  {
   "cell_type": "markdown",
   "metadata": {},
   "source": [
    "#### Calc 1st seats map"
   ]
  },
  {
   "cell_type": "code",
   "execution_count": 7,
   "metadata": {},
   "outputs": [
    {
     "name": "stdout",
     "output_type": "stream",
     "text": [
      "\n",
      "#####.#########.##########.#######.#################.#########.######.#######.####################\n",
      "#####.##.#.####.###..#####.#########################.#########.######.#######.#######.############\n",
      "#####.####.####################.#..###########################.######.###############.#.##########\n",
      "##########.####.##########.#######.#################.#########.######################.############\n",
      "###############.####.#####.#######.##.######..#############.##.#######.##############.############\n",
      "##########.####.####.#####.#################.#################.######.######.#####################\n",
      "######.###.####.####.#############.#########.#######.######.##.####.#######.#########.############\n",
      ".##..##.#..#.#...##..#..#.#...##..#...##..####.#.#.#.....#....#.##...#.##.##....#...#..#....#....#\n",
      "#####.####.#########.#####.###################################.######.#######.####.###############\n",
      "##########.####.####.###.#.#########################.#.##########.###########.#######.#######.####\n",
      "#####.####.####.##########.#########################.#########.##############...##########.#######\n",
      "######.########.####.########.####.#########..####.#.#########.#######.######.#############.###.##\n",
      "#.#...#.....###.#..##...#......#.###........##..###..#.###....#..#.#.#..#..#.##..#.......##..#.#..\n",
      "#####.############################.#########.#################.####.##############################\n",
      "#########.#####.####.#####.#######.#################.#########.######.##.####.##########.#########\n",
      "##########.####.####.####.#######.##########.#######.#########.######.#####.#.#######.############\n",
      "#####.#########.####.#####.#####.###########.#######.################.#######..######.####.#######\n",
      "#####.####.####.####.#########.#############.#######.####.####.##############.#######.############\n",
      "..#..#.#........##.#.#..###........#....##..###.##....#.......##.####....#...#.##........#.#......\n",
      "#####.#.##.#########.#####.#########.#######.#######.#########.######.###############.#.########.#\n",
      "#####.####.####..###.#############.#################.#######.########################.############\n",
      ".#########.####.####..############.#########.#######.#########.####.#.#..####.####################\n",
      "#####.####.####.####.#######.###############.#######.#########.######.#######.##############.#####\n",
      ".....##.#.##...#..##.##..#...#..#.##..##..#.#..........#....#...#.#....#.#.#....##.........##..##.\n",
      "#####.####.####.##################.###.#############.#########.######.#######.#.#.###.############\n",
      "##########.####.####.#####.###############.####.####.#######.########.###.###.#######.############\n",
      "#####.####.######.##.#####.#######.#################.##.#####..######.###############.#########.##\n",
      "########.######.####.#####.#######.######.##.###############.#..#############.#######.############\n",
      "#####.####.####.####.#####.#################.#######.#########.######.###.###########.############\n",
      "#..##.#.......#.##..#.....#..#.#..#.#...#....###..........###.##......#.#..#.##..#....##..#.......\n",
      "#####.####.####.##########.#######.#########.#######.########################.####################\n",
      "#####.##.#.###..####.#####.#######.#########.#######.#########.######.###############.###########.\n",
      "#####.####.####.####.#####.#################.#######.#########.######.#######.#######.#.##########\n",
      "#####.####.####.####.#####.#######.#########.#################.###.##.#######.####################\n",
      "#####.####.#.##.##########.#######.#########.#######.#########.######.#######.#######.############\n",
      "#####.####.####.###..#####.######..#########.#######.#########.######.#.#####.####################\n",
      "##########.####.##########.####.#..#########.#######.######.#################.#######.############\n",
      "#####.####.####.####.#############.##.######.#.#####.###############..#######.####################\n",
      "...#####..#...#..#..#.............#..#...#..#.#.#..###.#.....#.#.#.#.#..#.##.#..#.#..###..##...###\n",
      "#####.####.####.####.#####.###.###.#########.##.####.####.###########.######..#######.############\n",
      "##########.#.##.######.###.#######.#########.################..#.####.####.##.#######.############\n",
      ".#########.####.####.#####.##.####.#########.#######.########################.#######.##.#########\n",
      "#####.####.####.####.########.####.#########.#######.#########.######.###############.############\n",
      "####..#########.####.##.##..######.#######.#.#######.###.#####.#########.############.####.#######\n",
      "######.###.####.####.#####.###...####################################.#######.#######.############\n",
      "#####.####.####.####.#####.#######.#########.#######.################.#######.#######.##.###.#####\n",
      "#################.##.#####.#######.##########################################.#######.############\n",
      "##########..###.####.#####.#######.##.#######.######.#########.##############.#######.############\n",
      ".##..#....#..##....#.......#........##......#...#..............#.#...#.#....####.....#......###..#\n",
      "#####.####.####.####.#############.#########.############.###..##############.####################\n",
      "#####.#########.##########.##.####.#################.#########.######.###.###########.############\n",
      "#####.####.###############.#######.##.######.######.##########.######.#######.#######.#######.####\n",
      "#####.####.####.##########.#######.##################################.#######.#######.############\n",
      "#####.#########.####.#####.######..#########.#################.##############.#############.######\n",
      "...#.#.#.###..#......###.#..#......#...###....#....#..##.#.#..#..#......#.....##.#.....#........#.\n",
      "##.#####.#.####.####.#####.###.###.#########.#######.########..######.#######.#######.#.##########\n",
      "#####.####.###############.#######.#.######..#######.#########.######.#######.####################\n",
      "#####.###..#########.#.###.#######.#########.#################.######.###############.############\n",
      "#####.###..#######################.#############.##..#######.#.###.##.#####.######################\n",
      "#####.####.#########.#####.#######.#########.#######.#####.##########.#######.#######.#.##########\n",
      "###############.####.#####.#######.#################.#########.##############.#######.########.##.\n",
      "#####.####.####.####.###############################.#########.##############.#########.#######.##\n",
      "######.#############.############..#########.#################.######.###############.############\n",
      "...#...#...#...##...##.#.#..##..#....##...####.#........#......#..#....#.#....#...#.#.#.###.#..#.#\n",
      "#####.#.##.####.####.################.######.####.##.##.######.######.###############.############\n",
      "#####.####.####.#########################.##.########################.#########.#####.############\n",
      "#####.####.#########.#####.####.##.#########.#######.################.#######.####################\n",
      "##########.####.####.#####.#######.#########.#################.##############.############.#######\n",
      "#####.####.####.##############.###.#########.#######.#########.##############.#######.############\n",
      "#####.#########.############################.#######.#########.#####.################.########.###\n",
      "#####.############################.###################.#######.#.#################################\n",
      "#####.#########.##.#.#############.##################################.#######.######..############\n",
      "##.#...##..##..#..#.#....#...#..#..##......##.#.......#..##........##.#####.......#.....##.##.....\n",
      "#####.#######.#.####.#####.#######.#################.########..######.############.##.############\n",
      "#####.#######.#.####.#####.#######.#########.#######.########################.#######.############\n",
      "#####.####.##########.####.#.#####.#########.#######.###.#####.######.###############.############\n",
      "###.#.#########.##################.######.##.#######.#########.######.#######.#######.########.###\n",
      "..#.#....##.##.....#.##......#.##..######......##.#.##.###...####......#.#.#...##..#..#..#...##..#\n",
      "#####.#########.###..#####.#######.#########.#######..########.#########.####.#######.########.###\n",
      "####..####.####.####.#####.#########################.#########.######.#######.####################\n",
      "###.#.####.####.####.#####.#######.###############.#.################.#######.#######.#########.##\n",
      "#.##..####.#.#############.#######.########..###.###.######.##.######.###############.############\n",
      "#####.####.##.#.####.#####.#########################.####.##########..#######.#######.############\n",
      "#....#...#..#.#...#....#......#..###..#..##.##.#.#....#..#.#.###.#.####.........#..##.###......#..\n",
      "#####.####.####.####.#####.#######.#################.#####.##################.#######.##########.#\n",
      "#####.###..####.####.#####.#######.##########.####.##################.#######.#######.#########.##\n",
      "#####.######.##.####.#####.#######.#.#######.########################################.############\n",
      "#####.####.#########.#####.#######.########.########.#########.######.##.############.############\n",
      "#####.####.####.####.#####.#######.#################.#########.######.#######.####################\n",
      "############.#######.######.################.#####.###########.##############.#######.############"
     ]
    }
   ],
   "source": [
    "seats_map.append({})\n",
    "idx_max=len(seats_map)-1\n",
    "\n",
    "for key in list(seats_map[idx_max-1].keys()):\n",
    "    seats_map[idx_max].setdefault((key), change_state(seats_map[idx_max-1],(key)))\n",
    "\n",
    "\n",
    "print_map(seats_map[idx_max])"
   ]
  },
  {
   "cell_type": "markdown",
   "metadata": {},
   "source": [
    "#### Calc next seat maps"
   ]
  },
  {
   "cell_type": "code",
   "execution_count": 8,
   "metadata": {},
   "outputs": [
    {
     "name": "stdout",
     "output_type": "stream",
     "text": [
      "\n",
      "#L#L#.#LL#L##L#.#LL##L##L#.#L#L#L#.#L#L#L#L#L#L#L#L#.#L#L#L#L#.#L##L#.#L#L#L#.#L#L#L#L#LL#L#L#L#L#\n",
      "LLLLL.LL.L.LLLL.LLL..LLLLL.LLLLLL#LLLLLLLLLLLLLLLLLL.LLLLLLLLL.LLLLLL.LLLLLLL.LLLLLLL.LLLLLLLLLLLL\n",
      "#L#L#.L#L#.#L#L#L#L#L#L#L#L#L#L.L..#L#L#L#L#L#L#L#L#L#L#L#L#L#.#L#L#L.L#L#L##L#L#L#L#.#.L#L#L#L#L#\n",
      "LLLLLLLLLL.LLLL.LLLLLLLLLL.LLLL#L#.LLLLLLLLLLLLLLLLL.LLLLLLLLL.LLLLLL#LLLLLLLLLLLLLLL.LLLLLLLLLLLL\n",
      "#L#L#L#L#L#L#L#.#L##.#L#L#.#L#LLLL.##.L#L#L#..#L#L#L#L#L#L#.L#.#L#L#L#.#L#L#L#L##L#L#.L#L#L#L#L#L#\n",
      "LLLLLLLLLL.LLLL.LLLL.LLLLL.LLLL#L#LLLLLLLLLL.LLLLLLLLLLLLLLLLL.LLLLLL.LLLLLL.LLLLLLLLLLLLLLLLLLLLL\n",
      "#L#L#L.L##.##L#.#L##.#L#L#L##LLLL#.#L#L#L#L#.#L#L#LL.#L##L#.##.#L##.#L#L#L#.#L#LL#L##.##L#L#L#L#LL\n",
      ".LL..L#.L..L.L...LL..L..L.L...L#..L...LL..LLLL.#.L.#.....L....L.LL...L.LL.LL....#...L..L....L....#\n",
      "#L#L#.LL##.#L#L#L#L#.#L#L#.#L#LLL#L#L#L#L#LLL#LLL#LLL#L#L#L#L#.#L#L#L.#L#L#L#.#LLL.#L#LLL#L#L#L#LL\n",
      "#LLLLL#LLL.LL#L.L#LL.LLL.L.LLLL#L#L#L#L#L#L#LLL#LLL#.L.LLLLLLLLLL.LLLLLL#L#L#.#L#LL#L.L#LLLLL.LLL#\n",
      "LL#LL.#LLL.LLLL.LLL#L#L#L#.#L#LLLLLLLLLLLLLLL#LLL#LL.#L#L#L#L#.#L#L#LLLLLLLLL...LLLLLLLLL#.#L#L#LL\n",
      "#LLL#L.L#L#L#L#.#L#L.LLLL#L#L.L#L#.#L#L#L#L#..L#LL.#.LLLLLL#L#.#LLLLL#.L#L#L#.#L#LL#L#L#LLL.LLL.L#\n",
      "L.#...#.....LLL.L..L#...#......L.LLL........L#..L#L..#.#L#....L..#.#.L..L..L.LL..L.......LL..L.#..\n",
      "#LLL#.#L#L#L#L#L#LLL#L#LLL#L#LL#L#.#L#L#L#L#.LL#LLL#LLLLLLL#L#.#LLL.L#L#L#L#L###L#L#L#L#L#L#L#LLL#\n",
      "LL#L#LLLL.LLLLL.LL#L.LLL#L.LLLLLLL.LLLLLLLLLL#LLL#LL.#L#L#LLLL.LL#L#L.LL.LLLL.LLLLLLLLLL.LLLLLL#LL\n",
      "#LLL###L#L.L#L#.#LLL.#LLL.##LL#L#.##L#L#L#L#.#L#LLL#.LLLLLL#L#.#LLLLL.#L#L#.#.#L#L#L#.##L#L#L#L#L#\n",
      "LL#LL.LLLL#LLLL.LLL#.LL#LL.LLLLL.LLLLLLLLLLL.#LLL#LL.#L#L#LLL#LLL##L#.LLLLLLL..LLLLLL.LLLL.LLLLLLL\n",
      "#LLL#.#L#L.L#L#.#LLL.#LLL#L#L#.#L#L#L##L#L#L.L##LLL#.LLLL.L#L#.#LLLLLL#L#L#L#.#L#L#L#.#L##L#L#L#L#\n",
      "..#..L.L........LL.#.#..##L........L....#L..#L#.L#....#.......LL.##L#....L...L.LL........#.L......\n",
      "#LLL#.#.L#.#L#L#L#L#.LLLLL.#L#L#L#L#.#LLLLLL.LLLLLL#.LLLL#L#L#.#LLLLL.#L#L#L#LLL#L#L#.#.LLL#L#L#.#\n",
      "LL#L#.LLLL.LLLL..LL#.#L#L#L#LLLLLL.#L#L#L#L#L#L#L#LL.#L#LLLL.LLLL##L#L#L#LLLLL#LLLLLL.LL##LLLLLLLL\n",
      ".LLLLL##L#.#L##.#LLL..LLL#LLLLLLLL.#LLLLLLLL.LLLLLLL.LLLL#L#L#.#LLL.L.L..L#L#.LL#L#L#L#LLLL#L#L#L#\n",
      "#L#L#.LLLL.LL#L.LL##.#L#LLL#.#L#L#LLL#L#L#L#.#L#L#L#.#L#L#LLLL.LL##L#.#L#L#LL.#LLL#L#L#LL#LL.#LLLL\n",
      ".....L#.L.##...#..LL.LL..#...#..L.L#..LL..L.L..........#....#...#.L....L.L.L....#L.........#L..#L.\n",
      "#L#L#.LLL#.LL#L.L#L#L#L#LLL#LLL#L#.LL#.#L#L#L#L#L#L#.#LLL#LLLL.##L#L#.#L#L#L#.#.#.#L#.#L#LLLL#LLL#\n",
      "LLLLLL##LL.LLLL.LLLL.LLLL#.#L#L#LLL#LLLLLL.LLLL.LLLL.LL#LLL#.#LLLLLLL.LLL.LLL.LLLLLLL.LLLL##LLL#LL\n",
      "#L#L#.LLL#.#L#L#L.L#.#L#LL.LLLLLL#.#L#L#L#L#L#L#L#L#.#L.L#LLL..##L#L#.#L#L#L#L#L#L#L#.#L#LLLL#L.L#\n",
      "LLLLLL##.LLLLLL.L#LL.LLLL#.#L#L#LL.LLLLLL.LL.LLLLLLLLLLLLLL#.#..LLLLLLLLLLLLL.LLLLLLL.LLLL##LLLLLL\n",
      "#L#L#.LLL#.#LL#.LLL#.#L#LL.LLLLLL#L#L#L#L#L#.#L#L###.#L#L#LLLL.L#L#L#.#L#.#L#L#L#L#L#.#L#LLLL#L#L#\n",
      "L..L#.#.......L.#L..L.....#..#.#..L.L...L....LLL..........LL#.#L......L.L..L.LL..L....LL..#.......\n",
      "#L#LL.LLL#.#LL#.LLLLL#L#LL.LLLLLL#.LL#L#L#L#.#L#L#L#.#L#LLLLLLLLL#L#LL#L#L#L#.L#L#L#L#L#LLLLL#L#L#\n",
      "#LLL#.##.L.LLL..#L#L.LL#L#.#L#L#LL.#LLLLLLLL.LLLLLLL.LLLL#L#L#.#LLLLL.LLLLLLLLLLLLLLL.LLL#L#LLLLL.\n",
      "LL#LL.LLL#.#LL#.LLLL.#LLLL.LLLLLL#LLL#L#L#L#.#L#L#L#.#L#LLLLL#.LL#L##.#L#L#L#.#L#L#L#.#.LLLLL#L#L#\n",
      "#LLL#.##LL.LLLL.#L##.LL#L#.#L#L#LL.#LLLLLLLL.LLLLLLLLLLLL#L#LL.#LL.LL.#LLLLLL.#LLLLLLLLLL#L#LLLLLL\n",
      "LL#LL.LLL#.#.L#.LLLLL#LLLL.LLLLLL#.LL#L#L#L#.#L#L#L#.#L#LLLLL#.LL#L##.#L#L#L#.LLL#L#L.L#LLLLL#L#L#\n",
      "#LLL#.##L#.#LLL.#L#..LL#L#.#L#L#L..#LLL#LLLL.LLLLLL#.LLLL#L#L#.#LLLLL.L.LLLLL.#LLLLLL#LLL#L#LLLLLL\n",
      "LL#LLLLLLL.LL##.LLLL#LLLLL.LLLL.L..LL#LLL#L#.#L#L#LL.#L#LLL.LLLLL#L#L##L#L#L#.LLL#L#L.L#LLLLL#L#L#\n",
      "#LLL#.##L#.#LLL.#L#L.L#L#L#L#L#L##.#L.L#L#LL.L.LLLL#.LLLL#L#L#L#LLL#..LLLLLLL.L#LLLLL#L#L#L#L#LLLL\n",
      "...L#LLL..L...#..L..L.............L..#...#..#.#.#..LL#.#.....L.L.#.#.#..#.L#.#..L.#..#LL..LL...#L#\n",
      "#L#LL.L#L#.#LLL.##L#.#L#L#.#L#.#L#.#LLL#LLLL.LL.LL##.LLLL.L#L#L#LLLLL.LLLLLL..LL#LLLL.L#L#L#L#LLLL\n",
      "LLLL#LLLLL.L.##.LLLLLL.LLL.LLLLLLL.LL#LLL#L#.#L#LLL#L#L#L#LLL..L.#L#L.LL#L.L#.#LLL#L#.LLLLLLLLL#L#\n",
      ".#LLLL##L#.#LLL.#L##.##L#L.L#.##L#.#LLL#LLLL.LLLL#LL.#L#L#L###L#LLLLL#LLLL#LL.LL#LLLL.##.#L#L#LLLL\n",
      "LLL##.LLLL.LLL#.LLLL.LLLLL#LL.LLLL.LL#LLL#L#.#L#LLL#.LLLLLLLLL.LL#L#L.L##LLL#L#LLL#L#.LLLLLLLLL#L#\n",
      "#LLL..#L#L#L#LL.#L##.#L.L#..##L#L#.#LLL#LL.L.LLLL#L#.#L#.#L#L#.#LLL#L#L#.L#L#LLL#L#LL.##L#.#L#LLLL\n",
      "LL#L#L.LLL.LLL#.LLLL.LL#LL.#LL...LLLL#LLL#L#L#L#LLLLLLLLLLLLLLLLL#LLL.LLLLLLL.#LLLLL#.LLLLLLLLL#L#\n",
      "#LLL#.#L#L.L#LL.#L##.#L#L#.LL#L#L#.#LLL#LLLL.LLLL#L#.#L#L#L#L#L#LLLL#.#L#L#L#.LL#L#LL.##.#L#.#LLLL\n",
      "LL#LLLLLLL#LLL#LL.LL.LLLLL.#LLLLLL.LL#LLLLL#L#L#LLLLLLLLLLLLLLLLL##LLLLLLLLLL.#LLLLL#.LLLLLLLLL#L#\n",
      "#LLLL##L#L..#LL.#L##.#L#L#.#L#L#L#.#L.L#L#L#L.L#L#L#.#L#L#L#L#.#LLLL#L#L#L#L#.LL#L#LL.L#L#L#L#LLLL\n",
      ".L#..L....#..L#....L.......#........L#......L...L..............L.#...L.L....LL#L.....#......LLL..#\n",
      "#L#L#.#L#L.L#LL.#L##.#L#L#L#L#L#L#.#LLL#L#L#.#L#L###L#L#L.L#L..#L#L####LLL#L#.LLL#L#L#L#L#L#L#L#LL\n",
      "LLLLL.#LLL#LLL#.LLLLLLLLLL.LL.LLLL.LL#LLLLLLLLLLLLLL.LLLL#LLL#.LLLLLL.LL#.LLLL#LLLLLL.LLLLLLLLLLL#\n",
      "#L#L#.LL#L.L#LLL#L#L#L##L#.#L#L#L#.#L.L#L#L#.#L#L#L.L#L#LLL#LL.L#L#L#.#LLL#L#.LL#L#L#.##L##L#.L#L#\n",
      "LLLLL.#LLL.LLL#.LLLLLLLLLL.#LLLLLL.LLLLLLLLLLLLLLLL#LLLLL#LLLL#LLLLLL.LL#LLLL.#LLLLLL.LLLLLLLLLLLL\n",
      "#L#L#.LLL##L#LL.#L#L.#L#L#.##L#L#..#L#L#L#L#.#L#L#LLL#L#LLL##L.L#L#L#L#LLL#L#.LL##L#L##L#L#.L#L#L#\n",
      "...L.L.#.#LL..#......LLL.L..L......L...LLL....L....#..LL.#.L..#..L......#.....#L.L.....L........L.\n",
      "#L.L#LLL.L.#LLL.L#L#.#L#L#.#L#.#L#.#L#L#L#L#.#L#L#L#.#L#LLL##..L#L#L#.#L#L#L#.LLLL#L#.L.L#L#L#L#L#\n",
      "LL#LL.##L#.LL#L#LLLLL#LLLL.LLLLLLL.L.LLLLLL..LLLLLLL.LLLL#LLLL.LLLLLL.LL#LLLL.#L#L#LLL##LLLLLLL#LL\n",
      "#LLL#.LLL..#LLLLL#L#.L.#L#.#L#L#L#.#L#L#L#L#.#L#L#L#L#L#LLLLL#.##L#L#.#LLL#L#LLLLLLLL.LLL#L#L#LLL#\n",
      "LL#L#.#L#..#L#L#LLLLL#LLLLLLLLLLLL.LLLLLLLLLLLLL.LL..LLLL#L#.L.LLL.LL.LL#LL.LL#L#L##L#L#LLLLLLL#LL\n",
      "LLLLL.LLLL.LLLLLL#L#.LL#L#.#L#L#L#.#L#L#L#L#.#L#L#L#.#L#LL.LLL#L#L#L#.#LLL#L#.LLLLLLL.L.L#L#L#LLL#\n",
      "#L#L#L#L#L#L#L#.LLLL.#LLLL.LLLLLLL.LLLLLLLLLLLLLLLLL.#LLLL#L#L.LLLLLLLLL#LLLL.#L#L#L#.L#LLLLLL.#L.\n",
      "LLLLL.LLLL.LLLL.L#L#.LL#L#L#L#L#L##L#L#L#L#L#L#L#L#L.LLL##LLLL.##L#L#L#LLL#L#.LLLLLLLLL.L#L#L#L.L#\n",
      "#L##L#.#L#L#L#L#LLL#.#LLLLLLLLLLL..LLLLL#LLL.LLLLL#L#L#LLLL#L#.LLLLL#.LL#L#L#L#L#L#L#.##LLLLLLLLLL\n",
      "...L...L...L...#L...LL.#.#..##..#....##...#L#L.#........#......#..#....L.L....L...L.L.L.#L#.#..#.#\n",
      "#L#L#.#.L#.LL#L.L#L#.#LLLLLLLLLLLLL#L.LL#LLL.LLLL.L#.#L.LLL#L#.LLLLL#.#L#L#L#L#L#L#L#.#LLLLLLLLLLL\n",
      "LLLL#.LLLL.#L#L.L#LLLLL#L#L#L#L#L#LLL#LLL.L#.#L#L#L#L#L#L#L#L##L#L#LL.LLLLLLLLL.LLLLL.LLL#L#L#L#L#\n",
      "#L#LL.L#L#.LLLL#L#L#.#LLLL.LLLL.LL.#LLL#L#LL.LLLLLLL.LLLLLLLLLLLLLLL#.#L#L#L#.#L#L#LL#L#LLLLLLLLLL\n",
      "LLLLL#LLLL.#L#L.LLLL.LL#L#.#L#L#L#.LL#LLLLL#.#L#L#L#L#L#L#L#L#.#L#LLLLLLLLLLL.LLLLLLLLLLL#.#L#L#L#\n",
      "#L#LL.LL#L.LLLL.LL##L#LLLLLLLL.LLL.#LLL#L#LL.LLLLLLL.LLLLLLLLL.LLLL#L#L#L#L#L.L#L####.L#LLLLLLLLLL\n",
      "LLLL#.#LLL#L#L#.#LLLLLL#L#L#L#L#L#LLL#LLLLL#.###L#L#.#L#L#L#L#.#L#LL.LLLLLLLL#LLLLLLL.LLL#L#L#.#L#\n",
      "#L#LL.LL#LLLLLLLLL#L#LLLL#LLLLLLLL.#LLLLLLLLLLLLLLLLLL.LLLLLLL.L.LL#L#L#L#L#LLLLLL#L#L#LLLLLLLLLLL\n",
      "LL#L#.#LLL#L#L#.#L.L.L#LLLL#L#L#L#.LL##L#L##L#L#L#L#L#L#L#L#L#L#L#LLL.LLLLLLL.#L#LLL..#L##L#L#L#L#\n",
      "#L.L...L#..LL..L..#.L....#...L..L..#L......#L.L.......L..LL........L#.#L#L#.......#.....LL.#L.....\n",
      "LL#LL.LLLLLL#.#.#LLL.#L#LL.#L#L#L#.LL#L#L#LLLLL#L#L#.#L#L#LLL..LL#LLL.LLLLLL#L#L#L.L#.#L##LLLLL#L#\n",
      "#L#L#.#L#L#L#.L.LL##.#LLL#.LLLLLLL.#LLLLLLL#.#LLLLLL.LL#LLL#L##LL#L###L#L#L##.#L#L#LL.LLLLL#L#LLLL\n",
      "LLLLL.LLLL.LLL#L#LLLL.L#LL.L.#L#L#.LL#L#L#LL.LL#L#L#.#LL.#LLLL.LLLLLL.LLLLLLLLLLLL#L#.#L##LLLLL#L#\n",
      "#L#.#.#L#L#L#L#.#L#L##LLL#L#LLLLLL.#LLLLL.L#.#L#LLLL.LL#LLL#L#.##L#L#.#L#L#L#.#L#LLLL.LLLLL#L#.#LL\n",
      "..#.#....LL.LL.....L.LL......#.#L..LLL#L#......LL.L.#L.LL#...LLLL......L.L.L...LL..#..#..#...LL..#\n",
      "#L#L#.#L#L#L#LL.#L#..#LLL#.#LLLLL#.#LLLLLLL#.#L#L#L#..#LLLL###.#LLL#L###.##L#.#L##LLL.LLLLL#L#.#L#\n",
      "LL#L..LLLL.LLL#.LLLL.LL#LL.LL#L#LLLLL#L#L#LLLLLLLLLL.LLLL#LLLL.LL#LLL.LLLLLLL.LLLLL#L##L##LLLLL#LL\n",
      "#L#.#.#L##.#LLL.L#L#.#LLL#.#LLLLL#.#LLLLLLL#L#L#L#.#.#L#LLLL#L#LLLLLL.#L#L#L#.#L##LLL.LLLLL#L#L.L#\n",
      "L.#L..LLLL.L.#L#L#LLLLL#LL.LL#L#LL.LL#L#L#L..LLL.LLL.LLLL#L.LL.L#L#L#.LLLLLLLLLLLLLL#.#L##LLLLLLLL\n",
      "#L#L#.#LL#.#L.L.LLLL.#LLL#.#LLLLL#LLLLLLLLL#L#L#L#L#.#L#L.L#L#LLLLLL..#L#L#L#.#L#L#LL.LLLLL#L#L#L#\n",
      "L....L...L..L.#...#....#......#..#L#..#..#L.LL.L.L....L..#.#.LL#.#.L#LL.........L..L#.#L#......L..\n",
      "#L#L#.##L#.#LLL.#LLL.#L#L#.#LLLLLL.LLLLLL#L#L#L#L#L#.#L#L#.LL#LLLLLLLL#L#L#L#.#L#LLLL.LLLLL#L#L#.#\n",
      "LL#LL.LLL..LLL#.LLL#.LLLLL.LL#L#L#.#L#L#L#L#L.LLLL.LLLLLL#L#LLLL#L#L#.LLLLLLL.LL#L#L#.#LL#LLLLL.LL\n",
      "LLLL#.#LL#LL.LL.LLLL.#L#L#.#LLLLLL.L.LLLLLLL.LLLLL#L#LLLLLLLLL#LLLLLLL#L#L#L#L#LLLLLL.LLLLL#L#L#L#\n",
      "#L#LL.LLL#.#L###L#L#.#L#LL.LL#L#L#.#L#LL#L#.#L#L#L#L.L#L#L#L#L.L#L#L#.#L.L#L#L#L#L#L#.#LL#L#L#L#L#\n",
      "LLLLL.LLLL.LLLL.LLLL.LLLLL.LLLLLLL.LLLLLLLLLLLLLLLLL.LLLLLLLLL.LLLLLL.LLLLLLL.LLLLLLLLLLLLLLLLLLLL\n",
      "#L#L#LL#L#L#.#L#L#L#.#L##L#.#L#L#L#L#L##L#L#.#L#L#.#L#L#L#L#L#.#L#L#L##L#L#L#.#L#L#L#.#LL#L#L#L#L#"
     ]
    }
   ],
   "source": [
    "while seats_map[idx_max]!=seats_map[idx_max-1]:\n",
    "    seats_map.append({})\n",
    "    idx_max=len(seats_map)-1\n",
    "    for key in list(seats_map[idx_max-1].keys()):\n",
    "        seats_map[idx_max].setdefault((key), change_state(seats_map[idx_max-1],(key)))\n",
    "    #print_map(seats_map[idx_max]); print()\n",
    "    \n",
    "print_map(seats_map[idx_max])"
   ]
  },
  {
   "cell_type": "code",
   "execution_count": 9,
   "metadata": {},
   "outputs": [
    {
     "name": "stdout",
     "output_type": "stream",
     "text": [
      "Taken seats in part 1: 2289\n"
     ]
    }
   ],
   "source": [
    "print(f\"Taken seats in part 1: {list(seats_map[idx_max].values()).count('#')}\")"
   ]
  },
  {
   "cell_type": "markdown",
   "metadata": {},
   "source": [
    "### Part 2"
   ]
  },
  {
   "cell_type": "markdown",
   "metadata": {},
   "source": [
    "#### Init 0th seats map"
   ]
  },
  {
   "cell_type": "code",
   "execution_count": 10,
   "metadata": {},
   "outputs": [
    {
     "name": "stdout",
     "output_type": "stream",
     "text": [
      "\n",
      "LLLLL.LLLLLLLLL.LLLLLLLLLL.LLLLLLL.LLLLLLLLLLLLLLLLL.LLLLLLLLL.LLLLLL.LLLLLLL.LLLLLLLLLLLLLLLLLLLL\n",
      "LLLLL.LL.L.LLLL.LLL..LLLLL.LLLLLLLLLLLLLLLLLLLLLLLLL.LLLLLLLLL.LLLLLL.LLLLLLL.LLLLLLL.LLLLLLLLLLLL\n",
      "LLLLL.LLLL.LLLLLLLLLLLLLLLLLLLL.L..LLLLLLLLLLLLLLLLLLLLLLLLLLL.LLLLLL.LLLLLLLLLLLLLLL.L.LLLLLLLLLL\n",
      "LLLLLLLLLL.LLLL.LLLLLLLLLL.LLLLLLL.LLLLLLLLLLLLLLLLL.LLLLLLLLL.LLLLLLLLLLLLLLLLLLLLLL.LLLLLLLLLLLL\n",
      "LLLLLLLLLLLLLLL.LLLL.LLLLL.LLLLLLL.LL.LLLLLL..LLLLLLLLLLLLL.LL.LLLLLLL.LLLLLLLLLLLLLL.LLLLLLLLLLLL\n",
      "LLLLLLLLLL.LLLL.LLLL.LLLLL.LLLLLLLLLLLLLLLLL.LLLLLLLLLLLLLLLLL.LLLLLL.LLLLLL.LLLLLLLLLLLLLLLLLLLLL\n",
      "LLLLLL.LLL.LLLL.LLLL.LLLLLLLLLLLLL.LLLLLLLLL.LLLLLLL.LLLLLL.LL.LLLL.LLLLLLL.LLLLLLLLL.LLLLLLLLLLLL\n",
      ".LL..LL.L..L.L...LL..L..L.L...LL..L...LL..LLLL.L.L.L.....L....L.LL...L.LL.LL....L...L..L....L....L\n",
      "LLLLL.LLLL.LLLLLLLLL.LLLLL.LLLLLLLLLLLLLLLLLLLLLLLLLLLLLLLLLLL.LLLLLL.LLLLLLL.LLLL.LLLLLLLLLLLLLLL\n",
      "LLLLLLLLLL.LLLL.LLLL.LLL.L.LLLLLLLLLLLLLLLLLLLLLLLLL.L.LLLLLLLLLL.LLLLLLLLLLL.LLLLLLL.LLLLLLL.LLLL\n",
      "LLLLL.LLLL.LLLL.LLLLLLLLLL.LLLLLLLLLLLLLLLLLLLLLLLLL.LLLLLLLLL.LLLLLLLLLLLLLL...LLLLLLLLLL.LLLLLLL\n",
      "LLLLLL.LLLLLLLL.LLLL.LLLLLLLL.LLLL.LLLLLLLLL..LLLL.L.LLLLLLLLL.LLLLLLL.LLLLLL.LLLLLLLLLLLLL.LLL.LL\n",
      "L.L...L.....LLL.L..LL...L......L.LLL........LL..LLL..L.LLL....L..L.L.L..L..L.LL..L.......LL..L.L..\n",
      "LLLLL.LLLLLLLLLLLLLLLLLLLLLLLLLLLL.LLLLLLLLL.LLLLLLLLLLLLLLLLL.LLLL.LLLLLLLLLLLLLLLLLLLLLLLLLLLLLL\n",
      "LLLLLLLLL.LLLLL.LLLL.LLLLL.LLLLLLL.LLLLLLLLLLLLLLLLL.LLLLLLLLL.LLLLLL.LL.LLLL.LLLLLLLLLL.LLLLLLLLL\n",
      "LLLLLLLLLL.LLLL.LLLL.LLLL.LLLLLLL.LLLLLLLLLL.LLLLLLL.LLLLLLLLL.LLLLLL.LLLLL.L.LLLLLLL.LLLLLLLLLLLL\n",
      "LLLLL.LLLLLLLLL.LLLL.LLLLL.LLLLL.LLLLLLLLLLL.LLLLLLL.LLLLLLLLLLLLLLLL.LLLLLLL..LLLLLL.LLLL.LLLLLLL\n",
      "LLLLL.LLLL.LLLL.LLLL.LLLLLLLLL.LLLLLLLLLLLLL.LLLLLLL.LLLL.LLLL.LLLLLLLLLLLLLL.LLLLLLL.LLLLLLLLLLLL\n",
      "..L..L.L........LL.L.L..LLL........L....LL..LLL.LL....L.......LL.LLLL....L...L.LL........L.L......\n",
      "LLLLL.L.LL.LLLLLLLLL.LLLLL.LLLLLLLLL.LLLLLLL.LLLLLLL.LLLLLLLLL.LLLLLL.LLLLLLLLLLLLLLL.L.LLLLLLLL.L\n",
      "LLLLL.LLLL.LLLL..LLL.LLLLLLLLLLLLL.LLLLLLLLLLLLLLLLL.LLLLLLL.LLLLLLLLLLLLLLLLLLLLLLLL.LLLLLLLLLLLL\n",
      ".LLLLLLLLL.LLLL.LLLL..LLLLLLLLLLLL.LLLLLLLLL.LLLLLLL.LLLLLLLLL.LLLL.L.L..LLLL.LLLLLLLLLLLLLLLLLLLL\n",
      "LLLLL.LLLL.LLLL.LLLL.LLLLLLL.LLLLLLLLLLLLLLL.LLLLLLL.LLLLLLLLL.LLLLLL.LLLLLLL.LLLLLLLLLLLLLL.LLLLL\n",
      ".....LL.L.LL...L..LL.LL..L...L..L.LL..LL..L.L..........L....L...L.L....L.L.L....LL.........LL..LL.\n",
      "LLLLL.LLLL.LLLL.LLLLLLLLLLLLLLLLLL.LLL.LLLLLLLLLLLLL.LLLLLLLLL.LLLLLL.LLLLLLL.L.L.LLL.LLLLLLLLLLLL\n",
      "LLLLLLLLLL.LLLL.LLLL.LLLLL.LLLLLLLLLLLLLLL.LLLL.LLLL.LLLLLLL.LLLLLLLL.LLL.LLL.LLLLLLL.LLLLLLLLLLLL\n",
      "LLLLL.LLLL.LLLLLL.LL.LLLLL.LLLLLLL.LLLLLLLLLLLLLLLLL.LL.LLLLL..LLLLLL.LLLLLLLLLLLLLLL.LLLLLLLLL.LL\n",
      "LLLLLLLL.LLLLLL.LLLL.LLLLL.LLLLLLL.LLLLLL.LL.LLLLLLLLLLLLLLL.L..LLLLLLLLLLLLL.LLLLLLL.LLLLLLLLLLLL\n",
      "LLLLL.LLLL.LLLL.LLLL.LLLLL.LLLLLLLLLLLLLLLLL.LLLLLLL.LLLLLLLLL.LLLLLL.LLL.LLLLLLLLLLL.LLLLLLLLLLLL\n",
      "L..LL.L.......L.LL..L.....L..L.L..L.L...L....LLL..........LLL.LL......L.L..L.LL..L....LL..L.......\n",
      "LLLLL.LLLL.LLLL.LLLLLLLLLL.LLLLLLL.LLLLLLLLL.LLLLLLL.LLLLLLLLLLLLLLLLLLLLLLLL.LLLLLLLLLLLLLLLLLLLL\n",
      "LLLLL.LL.L.LLL..LLLL.LLLLL.LLLLLLL.LLLLLLLLL.LLLLLLL.LLLLLLLLL.LLLLLL.LLLLLLLLLLLLLLL.LLLLLLLLLLL.\n",
      "LLLLL.LLLL.LLLL.LLLL.LLLLL.LLLLLLLLLLLLLLLLL.LLLLLLL.LLLLLLLLL.LLLLLL.LLLLLLL.LLLLLLL.L.LLLLLLLLLL\n",
      "LLLLL.LLLL.LLLL.LLLL.LLLLL.LLLLLLL.LLLLLLLLL.LLLLLLLLLLLLLLLLL.LLL.LL.LLLLLLL.LLLLLLLLLLLLLLLLLLLL\n",
      "LLLLL.LLLL.L.LL.LLLLLLLLLL.LLLLLLL.LLLLLLLLL.LLLLLLL.LLLLLLLLL.LLLLLL.LLLLLLL.LLLLLLL.LLLLLLLLLLLL\n",
      "LLLLL.LLLL.LLLL.LLL..LLLLL.LLLLLL..LLLLLLLLL.LLLLLLL.LLLLLLLLL.LLLLLL.L.LLLLL.LLLLLLLLLLLLLLLLLLLL\n",
      "LLLLLLLLLL.LLLL.LLLLLLLLLL.LLLL.L..LLLLLLLLL.LLLLLLL.LLLLLL.LLLLLLLLLLLLLLLLL.LLLLLLL.LLLLLLLLLLLL\n",
      "LLLLL.LLLL.LLLL.LLLL.LLLLLLLLLLLLL.LL.LLLLLL.L.LLLLL.LLLLLLLLLLLLLLL..LLLLLLL.LLLLLLLLLLLLLLLLLLLL\n",
      "...LLLLL..L...L..L..L.............L..L...L..L.L.L..LLL.L.....L.L.L.L.L..L.LL.L..L.L..LLL..LL...LLL\n",
      "LLLLL.LLLL.LLLL.LLLL.LLLLL.LLL.LLL.LLLLLLLLL.LL.LLLL.LLLL.LLLLLLLLLLL.LLLLLL..LLLLLLL.LLLLLLLLLLLL\n",
      "LLLLLLLLLL.L.LL.LLLLLL.LLL.LLLLLLL.LLLLLLLLL.LLLLLLLLLLLLLLLL..L.LLLL.LLLL.LL.LLLLLLL.LLLLLLLLLLLL\n",
      ".LLLLLLLLL.LLLL.LLLL.LLLLL.LL.LLLL.LLLLLLLLL.LLLLLLL.LLLLLLLLLLLLLLLLLLLLLLLL.LLLLLLL.LL.LLLLLLLLL\n",
      "LLLLL.LLLL.LLLL.LLLL.LLLLLLLL.LLLL.LLLLLLLLL.LLLLLLL.LLLLLLLLL.LLLLLL.LLLLLLLLLLLLLLL.LLLLLLLLLLLL\n",
      "LLLL..LLLLLLLLL.LLLL.LL.LL..LLLLLL.LLLLLLL.L.LLLLLLL.LLL.LLLLL.LLLLLLLLL.LLLLLLLLLLLL.LLLL.LLLLLLL\n",
      "LLLLLL.LLL.LLLL.LLLL.LLLLL.LLL...LLLLLLLLLLLLLLLLLLLLLLLLLLLLLLLLLLLL.LLLLLLL.LLLLLLL.LLLLLLLLLLLL\n",
      "LLLLL.LLLL.LLLL.LLLL.LLLLL.LLLLLLL.LLLLLLLLL.LLLLLLL.LLLLLLLLLLLLLLLL.LLLLLLL.LLLLLLL.LL.LLL.LLLLL\n",
      "LLLLLLLLLLLLLLLLL.LL.LLLLL.LLLLLLL.LLLLLLLLLLLLLLLLLLLLLLLLLLLLLLLLLLLLLLLLLL.LLLLLLL.LLLLLLLLLLLL\n",
      "LLLLLLLLLL..LLL.LLLL.LLLLL.LLLLLLL.LL.LLLLLLL.LLLLLL.LLLLLLLLL.LLLLLLLLLLLLLL.LLLLLLL.LLLLLLLLLLLL\n",
      ".LL..L....L..LL....L.......L........LL......L...L..............L.L...L.L....LLLL.....L......LLL..L\n",
      "LLLLL.LLLL.LLLL.LLLL.LLLLLLLLLLLLL.LLLLLLLLL.LLLLLLLLLLLL.LLL..LLLLLLLLLLLLLL.LLLLLLLLLLLLLLLLLLLL\n",
      "LLLLL.LLLLLLLLL.LLLLLLLLLL.LL.LLLL.LLLLLLLLLLLLLLLLL.LLLLLLLLL.LLLLLL.LLL.LLLLLLLLLLL.LLLLLLLLLLLL\n",
      "LLLLL.LLLL.LLLLLLLLLLLLLLL.LLLLLLL.LL.LLLLLL.LLLLLL.LLLLLLLLLL.LLLLLL.LLLLLLL.LLLLLLL.LLLLLLL.LLLL\n",
      "LLLLL.LLLL.LLLL.LLLLLLLLLL.LLLLLLL.LLLLLLLLLLLLLLLLLLLLLLLLLLLLLLLLLL.LLLLLLL.LLLLLLL.LLLLLLLLLLLL\n",
      "LLLLL.LLLLLLLLL.LLLL.LLLLL.LLLLLL..LLLLLLLLL.LLLLLLLLLLLLLLLLL.LLLLLLLLLLLLLL.LLLLLLLLLLLLL.LLLLLL\n",
      "...L.L.L.LLL..L......LLL.L..L......L...LLL....L....L..LL.L.L..L..L......L.....LL.L.....L........L.\n",
      "LL.LLLLL.L.LLLL.LLLL.LLLLL.LLL.LLL.LLLLLLLLL.LLLLLLL.LLLLLLLL..LLLLLL.LLLLLLL.LLLLLLL.L.LLLLLLLLLL\n",
      "LLLLL.LLLL.LLLLLLLLLLLLLLL.LLLLLLL.L.LLLLLL..LLLLLLL.LLLLLLLLL.LLLLLL.LLLLLLL.LLLLLLLLLLLLLLLLLLLL\n",
      "LLLLL.LLL..LLLLLLLLL.L.LLL.LLLLLLL.LLLLLLLLL.LLLLLLLLLLLLLLLLL.LLLLLL.LLLLLLLLLLLLLLL.LLLLLLLLLLLL\n",
      "LLLLL.LLL..LLLLLLLLLLLLLLLLLLLLLLL.LLLLLLLLLLLLL.LL..LLLLLLL.L.LLL.LL.LLLLL.LLLLLLLLLLLLLLLLLLLLLL\n",
      "LLLLL.LLLL.LLLLLLLLL.LLLLL.LLLLLLL.LLLLLLLLL.LLLLLLL.LLLLL.LLLLLLLLLL.LLLLLLL.LLLLLLL.L.LLLLLLLLLL\n",
      "LLLLLLLLLLLLLLL.LLLL.LLLLL.LLLLLLL.LLLLLLLLLLLLLLLLL.LLLLLLLLL.LLLLLLLLLLLLLL.LLLLLLL.LLLLLLLL.LL.\n",
      "LLLLL.LLLL.LLLL.LLLL.LLLLLLLLLLLLLLLLLLLLLLLLLLLLLLL.LLLLLLLLL.LLLLLLLLLLLLLL.LLLLLLLLL.LLLLLLL.LL\n",
      "LLLLLL.LLLLLLLLLLLLL.LLLLLLLLLLLL..LLLLLLLLL.LLLLLLLLLLLLLLLLL.LLLLLL.LLLLLLLLLLLLLLL.LLLLLLLLLLLL\n",
      "...L...L...L...LL...LL.L.L..LL..L....LL...LLLL.L........L......L..L....L.L....L...L.L.L.LLL.L..L.L\n",
      "LLLLL.L.LL.LLLL.LLLL.LLLLLLLLLLLLLLLL.LLLLLL.LLLL.LL.LL.LLLLLL.LLLLLL.LLLLLLLLLLLLLLL.LLLLLLLLLLLL\n",
      "LLLLL.LLLL.LLLL.LLLLLLLLLLLLLLLLLLLLLLLLL.LL.LLLLLLLLLLLLLLLLLLLLLLLL.LLLLLLLLL.LLLLL.LLLLLLLLLLLL\n",
      "LLLLL.LLLL.LLLLLLLLL.LLLLL.LLLL.LL.LLLLLLLLL.LLLLLLL.LLLLLLLLLLLLLLLL.LLLLLLL.LLLLLLLLLLLLLLLLLLLL\n",
      "LLLLLLLLLL.LLLL.LLLL.LLLLL.LLLLLLL.LLLLLLLLL.LLLLLLLLLLLLLLLLL.LLLLLLLLLLLLLL.LLLLLLLLLLLL.LLLLLLL\n",
      "LLLLL.LLLL.LLLL.LLLLLLLLLLLLLL.LLL.LLLLLLLLL.LLLLLLL.LLLLLLLLL.LLLLLLLLLLLLLL.LLLLLLL.LLLLLLLLLLLL\n",
      "LLLLL.LLLLLLLLL.LLLLLLLLLLLLLLLLLLLLLLLLLLLL.LLLLLLL.LLLLLLLLL.LLLLL.LLLLLLLLLLLLLLLL.LLLLLLLL.LLL\n",
      "LLLLL.LLLLLLLLLLLLLLLLLLLLLLLLLLLL.LLLLLLLLLLLLLLLLLLL.LLLLLLL.L.LLLLLLLLLLLLLLLLLLLLLLLLLLLLLLLLL\n",
      "LLLLL.LLLLLLLLL.LL.L.LLLLLLLLLLLLL.LLLLLLLLLLLLLLLLLLLLLLLLLLLLLLLLLL.LLLLLLL.LLLLLL..LLLLLLLLLLLL\n",
      "LL.L...LL..LL..L..L.L....L...L..L..LL......LL.L.......L..LL........LL.LLLLL.......L.....LL.LL.....\n",
      "LLLLL.LLLLLLL.L.LLLL.LLLLL.LLLLLLL.LLLLLLLLLLLLLLLLL.LLLLLLLL..LLLLLL.LLLLLLLLLLLL.LL.LLLLLLLLLLLL\n",
      "LLLLL.LLLLLLL.L.LLLL.LLLLL.LLLLLLL.LLLLLLLLL.LLLLLLL.LLLLLLLLLLLLLLLLLLLLLLLL.LLLLLLL.LLLLLLLLLLLL\n",
      "LLLLL.LLLL.LLLLLLLLLL.LLLL.L.LLLLL.LLLLLLLLL.LLLLLLL.LLL.LLLLL.LLLLLL.LLLLLLLLLLLLLLL.LLLLLLLLLLLL\n",
      "LLL.L.LLLLLLLLL.LLLLLLLLLLLLLLLLLL.LLLLLL.LL.LLLLLLL.LLLLLLLLL.LLLLLL.LLLLLLL.LLLLLLL.LLLLLLLL.LLL\n",
      "..L.L....LL.LL.....L.LL......L.LL..LLLLLL......LL.L.LL.LLL...LLLL......L.L.L...LL..L..L..L...LL..L\n",
      "LLLLL.LLLLLLLLL.LLL..LLLLL.LLLLLLL.LLLLLLLLL.LLLLLLL..LLLLLLLL.LLLLLLLLL.LLLL.LLLLLLL.LLLLLLLL.LLL\n",
      "LLLL..LLLL.LLLL.LLLL.LLLLL.LLLLLLLLLLLLLLLLLLLLLLLLL.LLLLLLLLL.LLLLLL.LLLLLLL.LLLLLLLLLLLLLLLLLLLL\n",
      "LLL.L.LLLL.LLLL.LLLL.LLLLL.LLLLLLL.LLLLLLLLLLLLLLL.L.LLLLLLLLLLLLLLLL.LLLLLLL.LLLLLLL.LLLLLLLLL.LL\n",
      "L.LL..LLLL.L.LLLLLLLLLLLLL.LLLLLLL.LLLLLLLL..LLL.LLL.LLLLLL.LL.LLLLLL.LLLLLLLLLLLLLLL.LLLLLLLLLLLL\n",
      "LLLLL.LLLL.LL.L.LLLL.LLLLL.LLLLLLLLLLLLLLLLLLLLLLLLL.LLLL.LLLLLLLLLL..LLLLLLL.LLLLLLL.LLLLLLLLLLLL\n",
      "L....L...L..L.L...L....L......L..LLL..L..LL.LL.L.L....L..L.L.LLL.L.LLLL.........L..LL.LLL......L..\n",
      "LLLLL.LLLL.LLLL.LLLL.LLLLL.LLLLLLL.LLLLLLLLLLLLLLLLL.LLLLL.LLLLLLLLLLLLLLLLLL.LLLLLLL.LLLLLLLLLL.L\n",
      "LLLLL.LLL..LLLL.LLLL.LLLLL.LLLLLLL.LLLLLLLLLL.LLLL.LLLLLLLLLLLLLLLLLL.LLLLLLL.LLLLLLL.LLLLLLLLL.LL\n",
      "LLLLL.LLLLLL.LL.LLLL.LLLLL.LLLLLLL.L.LLLLLLL.LLLLLLLLLLLLLLLLLLLLLLLLLLLLLLLLLLLLLLLL.LLLLLLLLLLLL\n",
      "LLLLL.LLLL.LLLLLLLLL.LLLLL.LLLLLLL.LLLLLLLL.LLLLLLLL.LLLLLLLLL.LLLLLL.LL.LLLLLLLLLLLL.LLLLLLLLLLLL\n",
      "LLLLL.LLLL.LLLL.LLLL.LLLLL.LLLLLLL.LLLLLLLLLLLLLLLLL.LLLLLLLLL.LLLLLL.LLLLLLL.LLLLLLLLLLLLLLLLLLLL\n",
      "LLLLLLLLLLLL.LLLLLLL.LLLLLL.LLLLLLLLLLLLLLLL.LLLLL.LLLLLLLLLLL.LLLLLLLLLLLLLL.LLLLLLL.LLLLLLLLLLLL"
     ]
    }
   ],
   "source": [
    "seats_map2=list()\n",
    "seats_map2.append(seats_map[0])\n",
    "print_map(seats_map2[0])"
   ]
  },
  {
   "cell_type": "code",
   "execution_count": 11,
   "metadata": {},
   "outputs": [],
   "source": [
    "def get_near_seats(seats_map_now: dict, seat: tuple) -> list:\n",
    "    x, y = seat[0], seat[1]\n",
    "    near_seats=list()\n",
    "    directions=[(dx,dy) for  dx in (range(-1,2)) for dy in (range(-1,2)) if (dx,dy)!=(0,0)]\n",
    "    for direction in directions:\n",
    "        step_in_direction=1; seat_to_test=(x+direction[0]*step_in_direction, y+direction[1]*step_in_direction)\n",
    "        while seat_to_test in list(seats_map_now.keys()):\n",
    "            if not(seats_map_now.get(seat_to_test)=='.'):\n",
    "                near_seats.append(seat_to_test)\n",
    "                break\n",
    "            step_in_direction+=1\n",
    "            seat_to_test=(x+direction[0]*step_in_direction, y+direction[1]*step_in_direction)\n",
    "    \n",
    "    return near_seats"
   ]
  },
  {
   "cell_type": "code",
   "execution_count": 12,
   "metadata": {},
   "outputs": [
    {
     "name": "stdout",
     "output_type": "stream",
     "text": [
      "{(5, 0): 'L', (5, 1): 'L', (6, 1): 'L', (8, 0): 'L', (7, 1): 'L'}\n"
     ]
    }
   ],
   "source": [
    "temp_list=get_near_seats(seats_map2[0], (6,0))\n",
    "print({key: seats_map2[0].get(key) for key in temp_list})\n",
    "del temp_list"
   ]
  },
  {
   "cell_type": "markdown",
   "metadata": {},
   "source": [
    "#### Calc 1st seats map"
   ]
  },
  {
   "cell_type": "code",
   "execution_count": 13,
   "metadata": {},
   "outputs": [],
   "source": [
    "def change_state2(seats_now: dict, seat: tuple, dist_to_taken=5) -> str:\n",
    "    new_state=seats_now.get(seat)\n",
    "    if new_state!='.':\n",
    "        nei_seats=[seats_now.get(key) for key in get_near_seats(seats_now, seat)]\n",
    "        if new_state=='L' and not('#' in nei_seats): new_state='#'\n",
    "        elif new_state=='#' and nei_seats.count('#')>=dist_to_taken: new_state='L'\n",
    "        else: pass\n",
    "        \n",
    "    return new_state"
   ]
  },
  {
   "cell_type": "code",
   "execution_count": 14,
   "metadata": {},
   "outputs": [
    {
     "name": "stdout",
     "output_type": "stream",
     "text": [
      "(5, 9)\n",
      "#\n"
     ]
    }
   ],
   "source": [
    "some_seat=(5,9)\n",
    "print(some_seat)\n",
    "print(change_state2(seats_now=seats_map2[0], seat=some_seat, dist_to_taken=5))\n",
    "#change_state2(seats_now=seats_map2[0], seat=(0,0), dist_to_taken=5, formula=change_state2)\n",
    "del some_seat"
   ]
  },
  {
   "cell_type": "code",
   "execution_count": 15,
   "metadata": {},
   "outputs": [],
   "source": [
    "seats_map2.append({})\n",
    "idx_max=len(seats_map2)-1"
   ]
  },
  {
   "cell_type": "code",
   "execution_count": 16,
   "metadata": {},
   "outputs": [
    {
     "name": "stdout",
     "output_type": "stream",
     "text": [
      "\n",
      "#####.#########.##########.#######.#################.#########.######.#######.####################\n",
      "#####.##.#.####.###..#####.#########################.#########.######.#######.#######.############\n",
      "#####.####.####################.#..###########################.######.###############.#.##########\n",
      "##########.####.##########.#######.#################.#########.######################.############\n",
      "###############.####.#####.#######.##.######..#############.##.#######.##############.############\n",
      "##########.####.####.#####.#################.#################.######.######.#####################\n",
      "######.###.####.####.#############.#########.#######.######.##.####.#######.#########.############\n",
      ".##..##.#..#.#...##..#..#.#...##..#...##..####.#.#.#.....#....#.##...#.##.##....#...#..#....#....#\n",
      "#####.####.#########.#####.###################################.######.#######.####.###############\n",
      "##########.####.####.###.#.#########################.#.##########.###########.#######.#######.####\n",
      "#####.####.####.##########.#########################.#########.##############...##########.#######\n",
      "######.########.####.########.####.#########..####.#.#########.#######.######.#############.###.##\n",
      "#.#...#.....###.#..##...#......#.###........##..###..#.###....#..#.#.#..#..#.##..#.......##..#.#..\n",
      "#####.############################.#########.#################.####.##############################\n",
      "#########.#####.####.#####.#######.#################.#########.######.##.####.##########.#########\n",
      "##########.####.####.####.#######.##########.#######.#########.######.#####.#.#######.############\n",
      "#####.#########.####.#####.#####.###########.#######.################.#######..######.####.#######\n",
      "#####.####.####.####.#########.#############.#######.####.####.##############.#######.############\n",
      "..#..#.#........##.#.#..###........#....##..###.##....#.......##.####....#...#.##........#.#......\n",
      "#####.#.##.#########.#####.#########.#######.#######.#########.######.###############.#.########.#\n",
      "#####.####.####..###.#############.#################.#######.########################.############\n",
      ".#########.####.####..############.#########.#######.#########.####.#.#..####.####################\n",
      "#####.####.####.####.#######.###############.#######.#########.######.#######.##############.#####\n",
      ".....##.#.##...#..##.##..#...#..#.##..##..#.#..........#....#...#.#....#.#.#....##.........##..##.\n",
      "#####.####.####.##################.###.#############.#########.######.#######.#.#.###.############\n",
      "##########.####.####.#####.###############.####.####.#######.########.###.###.#######.############\n",
      "#####.####.######.##.#####.#######.#################.##.#####..######.###############.#########.##\n",
      "########.######.####.#####.#######.######.##.###############.#..#############.#######.############\n",
      "#####.####.####.####.#####.#################.#######.#########.######.###.###########.############\n",
      "#..##.#.......#.##..#.....#..#.#..#.#...#....###..........###.##......#.#..#.##..#....##..#.......\n",
      "#####.####.####.##########.#######.#########.#######.########################.####################\n",
      "#####.##.#.###..####.#####.#######.#########.#######.#########.######.###############.###########.\n",
      "#####.####.####.####.#####.#################.#######.#########.######.#######.#######.#.##########\n",
      "#####.####.####.####.#####.#######.#########.#################.###.##.#######.####################\n",
      "#####.####.#.##.##########.#######.#########.#######.#########.######.#######.#######.############\n",
      "#####.####.####.###..#####.######..#########.#######.#########.######.#.#####.####################\n",
      "##########.####.##########.####.#..#########.#######.######.#################.#######.############\n",
      "#####.####.####.####.#############.##.######.#.#####.###############..#######.####################\n",
      "...#####..#...#..#..#.............#..#...#..#.#.#..###.#.....#.#.#.#.#..#.##.#..#.#..###..##...###\n",
      "#####.####.####.####.#####.###.###.#########.##.####.####.###########.######..#######.############\n",
      "##########.#.##.######.###.#######.#########.################..#.####.####.##.#######.############\n",
      ".#########.####.####.#####.##.####.#########.#######.########################.#######.##.#########\n",
      "#####.####.####.####.########.####.#########.#######.#########.######.###############.############\n",
      "####..#########.####.##.##..######.#######.#.#######.###.#####.#########.############.####.#######\n",
      "######.###.####.####.#####.###...####################################.#######.#######.############\n",
      "#####.####.####.####.#####.#######.#########.#######.################.#######.#######.##.###.#####\n",
      "#################.##.#####.#######.##########################################.#######.############\n",
      "##########..###.####.#####.#######.##.#######.######.#########.##############.#######.############\n",
      ".##..#....#..##....#.......#........##......#...#..............#.#...#.#....####.....#......###..#\n",
      "#####.####.####.####.#############.#########.############.###..##############.####################\n",
      "#####.#########.##########.##.####.#################.#########.######.###.###########.############\n",
      "#####.####.###############.#######.##.######.######.##########.######.#######.#######.#######.####\n",
      "#####.####.####.##########.#######.##################################.#######.#######.############\n",
      "#####.#########.####.#####.######..#########.#################.##############.#############.######\n",
      "...#.#.#.###..#......###.#..#......#...###....#....#..##.#.#..#..#......#.....##.#.....#........#.\n",
      "##.#####.#.####.####.#####.###.###.#########.#######.########..######.#######.#######.#.##########\n",
      "#####.####.###############.#######.#.######..#######.#########.######.#######.####################\n",
      "#####.###..#########.#.###.#######.#########.#################.######.###############.############\n",
      "#####.###..#######################.#############.##..#######.#.###.##.#####.######################\n",
      "#####.####.#########.#####.#######.#########.#######.#####.##########.#######.#######.#.##########\n",
      "###############.####.#####.#######.#################.#########.##############.#######.########.##.\n",
      "#####.####.####.####.###############################.#########.##############.#########.#######.##\n",
      "######.#############.############..#########.#################.######.###############.############\n",
      "...#...#...#...##...##.#.#..##..#....##...####.#........#......#..#....#.#....#...#.#.#.###.#..#.#\n",
      "#####.#.##.####.####.################.######.####.##.##.######.######.###############.############\n",
      "#####.####.####.#########################.##.########################.#########.#####.############\n",
      "#####.####.#########.#####.####.##.#########.#######.################.#######.####################\n",
      "##########.####.####.#####.#######.#########.#################.##############.############.#######\n",
      "#####.####.####.##############.###.#########.#######.#########.##############.#######.############\n",
      "#####.#########.############################.#######.#########.#####.################.########.###\n",
      "#####.############################.###################.#######.#.#################################\n",
      "#####.#########.##.#.#############.##################################.#######.######..############\n",
      "##.#...##..##..#..#.#....#...#..#..##......##.#.......#..##........##.#####.......#.....##.##.....\n",
      "#####.#######.#.####.#####.#######.#################.########..######.############.##.############\n",
      "#####.#######.#.####.#####.#######.#########.#######.########################.#######.############\n",
      "#####.####.##########.####.#.#####.#########.#######.###.#####.######.###############.############\n",
      "###.#.#########.##################.######.##.#######.#########.######.#######.#######.########.###\n",
      "..#.#....##.##.....#.##......#.##..######......##.#.##.###...####......#.#.#...##..#..#..#...##..#\n",
      "#####.#########.###..#####.#######.#########.#######..########.#########.####.#######.########.###\n",
      "####..####.####.####.#####.#########################.#########.######.#######.####################\n",
      "###.#.####.####.####.#####.#######.###############.#.################.#######.#######.#########.##\n",
      "#.##..####.#.#############.#######.########..###.###.######.##.######.###############.############\n",
      "#####.####.##.#.####.#####.#########################.####.##########..#######.#######.############\n",
      "#....#...#..#.#...#....#......#..###..#..##.##.#.#....#..#.#.###.#.####.........#..##.###......#..\n",
      "#####.####.####.####.#####.#######.#################.#####.##################.#######.##########.#\n",
      "#####.###..####.####.#####.#######.##########.####.##################.#######.#######.#########.##\n",
      "#####.######.##.####.#####.#######.#.#######.########################################.############\n",
      "#####.####.#########.#####.#######.########.########.#########.######.##.############.############\n",
      "#####.####.####.####.#####.#######.#################.#########.######.#######.####################\n",
      "############.#######.######.################.#####.###########.##############.#######.############"
     ]
    }
   ],
   "source": [
    "for key in list(seats_map2[idx_max-1].keys()):\n",
    "    #print(key)\n",
    "    seats_map2[idx_max].setdefault((key), change_state(seats_map2[idx_max-1],(key)))\n",
    "\n",
    "\n",
    "print_map(seats_map2[idx_max])"
   ]
  },
  {
   "cell_type": "markdown",
   "metadata": {},
   "source": [
    "#### Calc next seat maps"
   ]
  },
  {
   "cell_type": "code",
   "execution_count": 17,
   "metadata": {},
   "outputs": [
    {
     "name": "stdout",
     "output_type": "stream",
     "text": [
      "CPU times: user 16min 33s, sys: 3.8 s, total: 16min 36s\n",
      "Wall time: 16min 41s\n"
     ]
    }
   ],
   "source": [
    "%%time\n",
    "while seats_map2[idx_max]!=seats_map2[idx_max-1]:\n",
    "    seats_map2.append({})\n",
    "    idx_max=len(seats_map2)-1\n",
    "    for key in list(seats_map2[idx_max-1].keys()):\n",
    "        seats_map2[idx_max].setdefault((key), change_state2(seats_now=seats_map2[idx_max-1], seat=(key)))\n",
    "    #print_map(seats_map2[idx_max]); print()\n",
    "    "
   ]
  },
  {
   "cell_type": "code",
   "execution_count": 18,
   "metadata": {},
   "outputs": [
    {
     "name": "stdout",
     "output_type": "stream",
     "text": [
      "CPU times: user 226 µs, sys: 1 µs, total: 227 µs\n",
      "Wall time: 229 µs\n"
     ]
    },
    {
     "data": {
      "text/plain": [
       "True"
      ]
     },
     "execution_count": 18,
     "metadata": {},
     "output_type": "execute_result"
    }
   ],
   "source": [
    "%time seats_map2[idx_max]==seats_map2[idx_max-1]"
   ]
  },
  {
   "cell_type": "code",
   "execution_count": 19,
   "metadata": {},
   "outputs": [
    {
     "name": "stdout",
     "output_type": "stream",
     "text": [
      "85\n",
      "\n",
      "#L#L#.L#L#L#L#L.#L#L#L#L#L.#L#L#L#.L#L#L#L#L#L#L#LL#.L#L#L#L#L.#L#L#L.#L#L#L#.L#L#L#L#L#L#L#L#L#L#\n",
      "LLLLL.#L.L.LLLL.LLL..LLLLL.LLLLLLLLLLLLLLLLLLLLLLLLL.LLLLLLLL#.LLLLL#.LLLLLLL.LLLLLLL.LLLLLLLLLLLL\n",
      "#L#L#.LL#L.L#LL#L#L#L#L#LL#L#L#.L..#L#L#L#L#L#L#L##L#LL#L#L#LL.##L#LL.##L#L#L#L#L#L#L.#.L#L#L#L#L#\n",
      "LLLLLL#LLL.LLLL.LLLLLLLLLL.LLLLL#L.LLLLLLLLLLLLLLLLL.LLLLLLLL#.LLLLL#LLLLLLLLLLLLLLL#.L#LLLLLLLLLL\n",
      "#L#L#LLL#L#L#L#.L#L#.LL#L#.L#L#LLL.#L.#L#L#L..#L#LL#L#L#L#L.LL.##L#LLL.L#L#L#L#L#L#LL.LLL#L#L#L#L#\n",
      "LLLLLL#LLL.LLLL.#LLL.#LLL#.LLLLL#L#LLLLLLLLL.LLLLLLLLLLLLLL#L#.LLLLL#.LLLLLL.LLLLLLL#LL#LLLLLLLLLL\n",
      "#L#L#L.L#L.#L##.LLL#.LL##LLL##L#LL.L#L#L#L#L.#L#L##L.#L#L#L.LL.##L#.LLL#L#L.L#L#L##LL.LLL#L#L#L#L#\n",
      ".LL..LL.L..L.L...#L..#..L.#...LL..L...LL..LLLL.L.L.#.....L....L.LL...#.LL.L#....L...#..L....L....L\n",
      "LL#LL.L#L#.L#LLLLLLL.LLL#L.LLLL#LLL#L#L#L#L#L#LL#LLL#L#LL#LLL#.LLLL#L.L#LLLL#.LLLL.LLL#L#L#L#L#LL#\n",
      "#LLL#LLLLL.L#L#.L#L#.LL#.L.L#L#LL#LLLLLLLLLLLLLLLL#L.L.LLLL#LLLL#.LLLLLLL#LLL.L#L#LL#.LLLLLL#.LLLL\n",
      "LL#LL.##L#.LLLL.#LLLL#LLL#.LLLLLLLL#L#L#L#L#L#L##LLL.#L#L#LLL#.LL#L#LLL#LLL#L...LLLLLLL#L#.LL#L#L#\n",
      "#LLL#L.LL#L#L##.LL#L.LL#L#L#L.L#L#.LLLLLLLLL..LLLL.#.LLLLLL#LL.#LLLLL#.LL#LLL.#LL#L#L#LLLL#.LLL.LL\n",
      "L.#...L.....LLL.#..L#...L......L.LL#........LL..##L..#.L#L....L..L.#.L..L..L.L#..L.......LL..#.L..\n",
      "#LLLL.L#LL#L#L#LLLL#LLLL#L#L#L#L#L.LL#L#L#L#.L#LLLL#LLLLLL#LL#.LL#L.LL#L#L#L#LLL#L#L#L#LL#L#L#L#L#\n",
      "LL#L#LLLL.LLLLL.##LL.#L#LL.LLLLLLL.#LLLLLLLLL#LL##LL.L#L#LL#LL.#LLLL#.LL.LLLL.#LLLLLLLL#.LLLLLLLLL\n",
      "#LLLLL#LL#.L#L#.LLL#.LLLL.L#L#L#L.LLL#L#L#L#.LL#LLL#.LLLL#LLL#.L#L#LL.#LLLL.#.LL#L#L#.LL#LL#L#L#L#\n",
      "LL#L#.LLLLLLLLL.##LL.#L#L#.LLLLL.#L#LLLLLLLL.#LLL#LL.L#LLLL#LL#LLLLL#.LL#L#LL..LLLLLL.#LL#.LLLLLLL\n",
      "#LLLL.#L#L.#L##.LLL#.LLLLLL#L#.L#LLLL#L#L#L#.LLL##L#.LLL#.LL#L.L#L#LLL#LLL#L#.L#L##L#.L#LLL#L#L#L#\n",
      "..L..#.L........##.L.#..L#L........#....LL..#L#.L#....L.......LL.L#L#....L...L.#L........#.L......\n",
      "L#L#L.L.L#.L#LLLLLL#.LL#LL.L#L#LL#LL.L#L#L#L.LLL#L#L.#L#L#L#LL.#LLLLL.L#L#L#LLLLLLLLL.#.LL#L#L#L.L\n",
      "#LLLL.#LLL.L#L#..LLL.#LLL##LLLLLLL.##LLLLL#LL#LLLLL#.LLLLLLL.#LLL#L#L#LLLLLLL#L#L#L#L.LL#LLLLLL#L#\n",
      ".LL#LLLL##.LLLL.#L#L..L#LLLL#L#L#L.LLL#L#LLL.LL#L#LL.L#L#L#LLL.LLLL.L.L..L#L#.LLLLLLL##LL#L#L#LLLL\n",
      "L#L#L.#L#L.##L#.LL#L.LLLL#LL.LLL#L#L#LLLLLLL.#LLLLL#.LLLLLLL#L.L#L#LL.#L#LLLL.L#L#L#LLLLLLLL.LL#L#\n",
      ".....L#.L.#L...#..LL.#L..L...#..L.LL..#L..#.L..........#....L...L.L....L.L.#....LL.........L#..LL.\n",
      "#L#L#.LLL#.LLLL.L#L#LLL#L##LLLL#L#.LLL.L#LLLLL#L#L#L.#L#L#LL#L.#L#L#L.L#L#L#L.#.L.#L#.#L#L#LLLL#LL\n",
      "LLLLLLL#L#.L#L#.LLLL.#LLLL.L#LLLLLLLL#LLLL.#L#L.LLL#.LLLLLLL.LLLLLLL#.LLL.LLL.#LLLLLL.LLLLL#L#LLL#\n",
      "#L#L#.LLLL.LLL#L#.L#.LL#L#.LLL#L#L.#L#L#L#LLLLL#L#LL.##.L#L#L..L#L#LL.#L#LL#LLLL##L#L.L#L#LLLLL.LL\n",
      "LLLLLL##.LLL#LL.#L#L.#LLLL.##LLLLL.LLLLLL.L#.LLLLLL#LLLLLLLL.#..LLLL#LLLLLLLL.#LLLLLL.LLLLL#L#L#L#\n",
      "#L#L#.LLL#.LLL#.LLLL.LL#L#.LLL#L#L#L##L#LL#L.#L#L#LL.L#L#L#LLL.L#L#LL.##L.#L#LLL#L#L#.L#L#LLLLLLLL\n",
      "L..LL.#.......L.#L..#.....L..L.L..L.L...L....LLL..........LL#.LL......L.#..L.L#..L....LL..L.......\n",
      "#LL##.LL#L.LL##.LLLLLL#L#L.#L#L#L#.#LLLLL#L#.L#L#L#L.#L#L#LLL#L#L#L#L##LL#L#L.LLL#L#LL#L#LL#L#L#L#\n",
      "LL#LL.#L.L.#LL..#L#L.LLLLL.LLLLLLL.LL#L#LLL#.LLL#LLL.#L#L#L#L#.LLLLLL.LLLLLLL#L#LLLL#.LLL#LLLLLLL.\n",
      "#LLL#.LLL#.LLLL.LLLL.#L#L#.LL#L#LL#L#LLLL#LL.L#LLL#L.LLLLLLLLL.#L#L#L.##L#L#L.LLLL#LL.#.LLL#L#L#LL\n",
      "LL#LL.##LL.#LL#.L#L#.LLLLL.#LLLLLL.LLL#L#LL#.LLL#LLL##L#L#L#L#.LLL.L#.LLLLLLL.#L#LLL#LL#L#LLLLLLL#\n",
      "#LLL#.LLL#.L.L#.LLLLL#L#L#.LL#L#L#.L#LLLLLLL.#L#LL#L.LLLLLLLLL.L#L#LL.#LL#L##.LLLL#LL.LLLLL#L#L#LL\n",
      "LL#LL.##LL.##L#.L#L..LLLLL.#LLLLL..#LLL#L#L#.LLLLLLL.#L#L#L#L#.LLLLL#.L.LLLLL.#L#LL#L#L#L#LLLLLLL#\n",
      "#LLL#LLLL#.LLLL.LLL#L#L#L#.LL#L.#..LL#LLLLLL.#L#L#L#.LLLLLL.LL#L#L#LLL##L#L##.LLLLLLL.LLLLL#L#L#LL\n",
      "LLL#L.##LL.##L#.L#LL.LLLLLL#L#L#LL.#L.L#L#L#.L.LLLLL.#L##L#L#LLLLLLL..LLLLLLL.#L#L##LLL#L#LLLLLLL#\n",
      "...LL#LL..#...L..L..#.............L..L...L..#.L.L..#L#.L.....L.#.L.#.L..#.L#.L..#.L..#LL..LL...#LL\n",
      "#L#L#.L##L.LLLL.LL#L.LL#L#.L#L.L#L.L#L#L#L#L.L#.L#LL.LL#L.L#L#LLL#LLL.#LLLLL..LLLL#LL.#L#LL#L#LLL#\n",
      "LLLLLLLLLL.#.LL.#L#LL#.LLL.#LL#L#L.LLLLLLLLL.LLLLLLL#LLLL#LLL..#.LL##.LL#L.#L.#L#LLL#.LLL#LLLLL#LL\n",
      ".L#L#L#L##.LL#L.LLLL.LL#L#.LL.LLLL.#L#L#L#L#.L#L#L#L.#L#LLLL#LLLL#LLLL#LLLLL#.LLL#LLL.L#.LL#L#LLL#\n",
      "#LLLL.LLLL.#LLL.#L#L.#LLLLL#L.#L#L.LLLLLLLLL.#LLLLL#.LLL#L#LLL.#LLL##.LL#L#LLL#LLLL#L.LL##LLLLL#LL\n",
      "LL#L..LL##LLL#L.LLLL.LL.L#..LLLLLL.#L#L#L#.L.LL#L#LL.##L.LL#L#.LL#LLLL#L.LLLLLLL#LLLL.#LLL.L#LLLL#\n",
      "#LLL#L.LLL.#LLL.#L#L.#L#LL.L#L...#LLLLLLLLL#L#LLLLL#LLL#L#LLLLL#LL#L#.#LLLLL#.LL#L##L.#L#L#LLL#LLL\n",
      "LL#LL.#L##.LL#L.LLLL.LLLL#.LLL#LLL.#L#L#L#LL.LLL##LL.#L#L#L#L#LLLLLLL.#L#L#LL.#LLLLLL.LL.LLL.LLL##\n",
      "LLLL#LLL#L#L#LL#L.#L.#L#L#.L#LLL#L.LLLLLL#L##L#L#L#L#LLLLLLLLL##L#L#LLLLLLLL#.LLL#L#L.L#LL#L#L#LLL\n",
      "#L#LLLLLLL..#L#.LLLL.LLLL#.LLL#LLL.LL.#LLLLLL.LLLL#L.L#L#L#L#L.LL#L#L#L#L#L#L.L#L#L#L.L#L#LLLLLLL#\n",
      ".LL..#....L..L#....L.......L........#L......L...#..............L.L...L.#....L#LL.....L......#L#..L\n",
      "LL#LL.L###.LLLL.##L#.LLLL#LLL#L#L#.L#L##L#L#.L#L##L#LLLLL.LLL..#L#LLLLLLLL#L#.LL#L#L#L#L#L#LLLLLL#\n",
      "#LLL#.LLLL#L#L#.LLLLL#L#LL.#L.LLL#.LLLLLLLL#LL#LLLLL.##L#L#L##.LLLL#L.#LL.LLLL#L#LLLL.#LLLLLL#L#LL\n",
      "LL#LL.LL#L.LLLLL#L#LLLLLL#.LLLL#LL.#L.L#L#LL.LL#L#L.LLLL#L#LLL.#L#LLL.#L#L#L#.LLLL#L#.LL#L#L#.LLL#\n",
      "#LL#L.#LLL.#L#L.LLLL#LL#LL.#L#LLL#.LL#LLLLL#L#LLLLL#L#LLLLLL#LLLLLL#L.LLLLLLL.#L#LLLL.#LLLLLLLL#LL\n",
      "L#LLL.LL#LLLLLL.#L#L.#LLL#.LLLL#L..#LLL#L#LL.LLL##LLLLL#L#L#LL.#L#LLL#L#L#L#L.LLLL#L#LLLL#L.#L#LL#\n",
      "...#.L.L.LL#..L......LL#.L..#......L...LLL....#....#..LL.#.L..L..L......L.....L#.L.....#........L.\n",
      "#L.LLL#L.#.LL#L.LLLL.#LLLL.LLL.LLL.##LL#L#L#.LLLLLLL.##LLLLL#..L#L#L#.LLLL#LL.#LL#LLL.L.LLLLL#L#LL\n",
      "LL#L#.LLLL.#L#L#L#L#LLL#L#.L#L##L#.L.#LLLLL..#L##L##.LLL#L#LLL.#LLLLL.#L#LLL#.LL#LL#L#LLL#L#L#LLL#\n",
      "#LLLL.#L#..LLLLLLLLL.#.LLL.LLLLLLL.#LL#L#LLL.LLLLLLLL##LLLLL##.LL#L##.LLLL#LLL#LLL#LL.L#LLLLLLL#LL\n",
      "LL#L#.LL#..LL#L#L#L#LLLLL#L#L#L#L#.L#LLLLL#L##L#.L#..LLL#L##.L.L#L.LL.L#L#L.#LLL#LLL#LLLL#L#L#LLL#\n",
      "#LLLL.#LLL.#LLLLLLLL.#L#L#.LLLLLLL.LLL#L#LLL.LLLLLLL.#L#LL.LL#LLLL#LL.LLLLLLL.#LLL#LL.#.LLLLLLL#LL\n",
      "LL#L#LL#L#LLL#L.#L#L.LLLLL.L#L#L#L.L#LLLLL#LLL#L##L#.LLLL#L#LL.##LLL#L#L#L#L#.LL#LLL#.LLL#L#L#.LL.\n",
      "#LLLL.LLLL.#LLL.LLLL.L#L#L#LLLLLLL#LLL#L#LLL#LLLLLLL.L#LLLLLL#.LLL#LLL#LLLLLL.#LLL#LLL#.LLLLLLL.L#\n",
      "L#L#L#.L#LLLL#L#L#L#.L#L#L#L#L#L#..L#LLL#L#L.#LL#L#L#LLL#L#L#L.##LLL#.LLL#L#LLLL#L#LL.#L#L#L#L##LL\n",
      "...L...L...#...LL...LL.L.L..LL..L....L#...L#LL.L........#......L..L....#.L....#...L.L.L.LLL.#..L.#\n",
      "#L#LL.#.L#.LLLL.#L#L.#L#L#L#LLL#LLL#L.LLL#LL.##LL.LL.#L.LLLLLL.#LLLL#.LLLL#L#LLLL#L#L.L#L#LLLLLLLL\n",
      "LLLL#.LLLL.#L#L.LLLLLLLLLLL#L#L#L#LLL#L#L.L#.LLL##L#LLL#L#L#L#LLL#L#L.#L#L#LLL#.LLLLL.LLLLL#L#L#L#\n",
      "#L#LL.#L#L.LLLL#LL#L.#L#L#.LLLL.LL.#LLLLLLLL.##LLLLL.#LLLLLLLLL#LLLLL.LLLLLL#.LLL#L#L#L#L#LLLLLLLL\n",
      "LLLL#LLLLL.#L#L.#LLL.LLLLL.#LL#L##.LL#L#L#L#.LLL##L#LLL#L#L#L#.LL#L#L#L#L#L#L.L#LLLLLLLLLL.#L#L#L#\n",
      "#L#LL.#L#L.LLL#.LL#L#L#L#LLL#L.LLL.#LLLLLLLL.##LLLLL.#LLLLLLLL.L#LLLLLLLLLLLL.LLL#L#L.#L#LLLLLLLLL\n",
      "LLLL#.LLLL#L#LL.#LLLLLLLLL#LLLL#L#LLL#L#L#L#.LLL##L#.LL#L#L#L#.LLL#L.L#LL#L#L#L#LLLLL.#LLL#L#L.#L#\n",
      "#L#LL.#L#LLLLL#LL#LL#L#L#LLLL#LLLL.#LLLLLLLLLL#LLLLLL#.LLLLLLL.L.LLL#LLL#LLLLLLLL#L#LLLL#LLLLLLLLL\n",
      "LLL#L.LLLL#L#LL.LL.L.LLLL#L#LLL#L#.LL#L#LL#L#LLL#L#L#LL#L#L#L#LL#L#LL.#LLL#LL.#L#LLL..#LLL#L#L#LL#\n",
      "#L.L...L#..LL..L..#.L....L...#..L..LL......LL.#.......L..LL........L#.LL#LL.......L.....#L.LL.....\n",
      "LL#LL.#LLLLL#.L.#LLL.##L#L.LLLLLLL.#LLLLL#L#LLLLLLLL.#LL#L#L#..LLLLLL.#LLL#LL#L#L#.L#.LLLLL#L#L#LL\n",
      "#LLL#.LL#L#LL.L.L#L#.LLLLL.#L#L#L#.LL#L#LLLL.##L##L#.LL#LLLLLLL#L#L#LLLL#LLL#.L#LLLLL.L#L#LLLLLLL#\n",
      "LL#LL.#LLL.#L#L#LLLLL.#L#L.L.LLLLL.#LLLLL#L#.LLLLLLL.L#L.LL#L#.LLLLLL.#LLL#LLLLLLL#L#.LLLLL#L#L#LL\n",
      "#LL.#.LL#LLLLLL.L#L#LLLLLLLL#L#L#L.LL#L#L.LL.L#L#L#L.LLL#L#LLL.L#L#L#.#L#LLL#.LL#LLLL.L#L#L#LL.LL#\n",
      "..#.L....#L.L#.....L.#L......L.LL..#LLLLL......LL.L.L#.LLL...#LLL......L.L.L...#L..#..L..L...L#..L\n",
      "LLLL#.LLLLL#LLL.LL#..LLLL#.LL#L#L#.L#L#L#L#L.#L#L#L#..LL#LL#LL.#L#LLL#L#.L###.LLL#LLL.#L#L#L#L.LL#\n",
      "#L#L..L#L#.LL#L.#LLL.#L#LL.#LLLLLLLLLLLLLLLLLLLLLLLL.L#LLL#LL#.LLLLL#.LLLLLLL.#L#LLL#LLLLLLLLLL#LL\n",
      "LL#.L.LLLL.#LLL.LL#L.LLLL#.L#L#L#L.#L#L#L#L#L#LL#L.#.LLL#LLL#LL#LL#LL.#L#L#LL.LLLL#LL.#LL#L#L#L.L#\n",
      "#.LL..#L#L.L.#LL#LLL##L#LL.LLLLLLL.LLLLLLLL..LLL.LLL.L#LLL#.LL.LL#LL#.LLLLLL#L#L#LLL#.LL#LLLLLLLLL\n",
      "LL##L.LLLL.#L.#.LL#L.LLL#L.L#L#L#L#L#L#L#LLL#L#LL#L#.LLL#.LLL#L#LLL#..L#L#LLL.LLLL#LL.#LLL#L#LL#L#\n",
      "#....L...L..#.L...L....L......L..L#L..L..L#.LL.#.L....#..L.#.LLL.#.LLLL.........#..L#.LL#......L..\n",
      "LLLLL.#L#L.LLLL.L#LL.##LLL.#L#LLLL.#L#LLLLLLLLLLLL#L.LLLLL.LL#L#LLLL#L#L#L#L#.LLLLLLL.LLLLLLLLL#.L\n",
      "#L#L#.LL#..L#L#.LLL#.LLL#L.LL#L#L#.LL#L#L#LL#.L#L#.L#L#L#L#LLLLLL#L#L.#L#L#LL.#L#L#L#.L#L#L#L#L.L#\n",
      "LLLLL.#LLLLL.LL.#LLL.#LLLL.#LLLLLL.L.LLLLLLL.LLLLLLLLLLLLLLL#L#LLLLLLLLLLLLL#LLLLLLLL.LLLLLLLLLLLL\n",
      "#L#L#.LL#L.#L#LLL#L#.LL#L#.L#L#L#L.L#L#L#L#.L#L#L#L#.L#L#L#LLL.L#L#L#.L#.L#LLL#L#L#L#.L#L#L#L#L#L#\n",
      "LLLLL.LLLL.LLLL.LLLL.#LLLL.LLLLLLL.LLLLLLLLLLLLLLLLL.LLLLLLLL#.LLLLLL.LLLLLL#.LLLLLLLLLLLLLLLLLLLL\n",
      "#L#L#L#L#L#L.#L#L#L#.L#L#L#.L#L#L#L#L#L#L#L#.L#L##.L#L#L#L#L#L.#L#L#L#L#L#L#L.#L#L#L#.L#L#L#L#L#L#"
     ]
    }
   ],
   "source": [
    "print(idx_max)\n",
    "print_map(seats_map2[idx_max])"
   ]
  },
  {
   "cell_type": "markdown",
   "metadata": {},
   "source": [
    "#### Calc next seat maps"
   ]
  },
  {
   "cell_type": "code",
   "execution_count": 20,
   "metadata": {},
   "outputs": [
    {
     "name": "stdout",
     "output_type": "stream",
     "text": [
      "Taken seats in part 2: 2059\n"
     ]
    }
   ],
   "source": [
    "print(f\"Taken seats in part 2: {list(seats_map2[idx_max].values()).count('#')}\")"
   ]
  },
  {
   "cell_type": "raw",
   "metadata": {},
   "source": [
    "The answer is correct, but should it take 16.5 minutes?"
   ]
  },
  {
   "cell_type": "code",
   "execution_count": null,
   "metadata": {},
   "outputs": [],
   "source": []
  }
 ],
 "metadata": {
  "kernelspec": {
   "display_name": "sandbox",
   "language": "python",
   "name": "sandbox"
  },
  "language_info": {
   "codemirror_mode": {
    "name": "ipython",
    "version": 3
   },
   "file_extension": ".py",
   "mimetype": "text/x-python",
   "name": "python",
   "nbconvert_exporter": "python",
   "pygments_lexer": "ipython3",
   "version": "3.8.5"
  }
 },
 "nbformat": 4,
 "nbformat_minor": 4
}
