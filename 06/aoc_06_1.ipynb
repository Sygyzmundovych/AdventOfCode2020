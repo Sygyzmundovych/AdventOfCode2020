{
 "cells": [
  {
   "cell_type": "code",
   "execution_count": 1,
   "metadata": {},
   "outputs": [
    {
     "name": "stdout",
     "output_type": "stream",
     "text": [
      "['tzibqaulrw', 'bratip', 'trbhia', 'rtiab', '']\n"
     ]
    }
   ],
   "source": [
    "with open(\"./aoc_2006_prod.txt\") as f:\n",
    "    data=f.read().splitlines()\n",
    "    print(data[0:5])"
   ]
  },
  {
   "cell_type": "code",
   "execution_count": 2,
   "metadata": {},
   "outputs": [],
   "source": [
    "if (data[-1:]!=''): data.append('')"
   ]
  },
  {
   "cell_type": "markdown",
   "metadata": {},
   "source": [
    "### Part 1"
   ]
  },
  {
   "cell_type": "code",
   "execution_count": 3,
   "metadata": {},
   "outputs": [],
   "source": [
    "#groups_answers=list()\n",
    "#group_answers=list()\n",
    "group_answers_unique=set()\n",
    "result=0\n",
    "\n",
    "for a in data:\n",
    "    if a=='':\n",
    "        #groups_answers.append(group_answers)\n",
    "        result+=len(group_answers_unique)\n",
    "        #group_answers=list()\n",
    "        group_answers_unique=set()\n",
    "    else:\n",
    "        #group_answers.append(a)\n",
    "        group_answers_unique=group_answers_unique.union({c for c in a})"
   ]
  },
  {
   "cell_type": "code",
   "execution_count": 4,
   "metadata": {},
   "outputs": [
    {
     "name": "stdout",
     "output_type": "stream",
     "text": [
      "Part 1 answer: 6161\n"
     ]
    }
   ],
   "source": [
    "print(f\"Part 1 answer: {result}\")"
   ]
  },
  {
   "cell_type": "markdown",
   "metadata": {},
   "source": [
    "### Part 2"
   ]
  },
  {
   "cell_type": "code",
   "execution_count": 5,
   "metadata": {},
   "outputs": [],
   "source": [
    "import string"
   ]
  },
  {
   "cell_type": "code",
   "execution_count": 6,
   "metadata": {},
   "outputs": [],
   "source": [
    "#groups_answers=list()\n",
    "#group_answers=list()\n",
    "group_answers_common=set(string.ascii_lowercase)\n",
    "result=0\n",
    "\n",
    "for a in data:\n",
    "    if a=='':\n",
    "        #groups_answers.append(group_answers)\n",
    "        result+=len(group_answers_common)\n",
    "        #group_answers=list()\n",
    "        group_answers_common=set(string.ascii_lowercase)\n",
    "    else:\n",
    "        #group_answers.append(a)\n",
    "        group_answers_common=group_answers_common.intersection({c for c in a})"
   ]
  },
  {
   "cell_type": "code",
   "execution_count": 7,
   "metadata": {},
   "outputs": [
    {
     "name": "stdout",
     "output_type": "stream",
     "text": [
      "Part 2 answer: 2971\n"
     ]
    }
   ],
   "source": [
    "print(f\"Part 2 answer: {result}\")"
   ]
  },
  {
   "cell_type": "code",
   "execution_count": null,
   "metadata": {},
   "outputs": [],
   "source": []
  }
 ],
 "metadata": {
  "kernelspec": {
   "display_name": "Python 3",
   "language": "python",
   "name": "python3"
  },
  "language_info": {
   "codemirror_mode": {
    "name": "ipython",
    "version": 3
   },
   "file_extension": ".py",
   "mimetype": "text/x-python",
   "name": "python",
   "nbconvert_exporter": "python",
   "pygments_lexer": "ipython3",
   "version": "3.8.5"
  }
 },
 "nbformat": 4,
 "nbformat_minor": 4
}
