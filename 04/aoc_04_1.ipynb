{
 "cells": [
  {
   "cell_type": "code",
   "execution_count": 1,
   "metadata": {},
   "outputs": [],
   "source": [
    "FIELDS='''    byr (Birth Year)\n",
    "    iyr (Issue Year)\n",
    "    eyr (Expiration Year)\n",
    "    hgt (Height)\n",
    "    hcl (Hair Color)\n",
    "    ecl (Eye Color)\n",
    "    pid (Passport ID)\n",
    "    cid (Country ID)'''"
   ]
  },
  {
   "cell_type": "code",
   "execution_count": 2,
   "metadata": {},
   "outputs": [],
   "source": [
    "FIELDS_REQ={i.split()[0] for i in FIELDS.splitlines()}\n",
    "\n",
    "FIELDS_REQ.remove('cid')"
   ]
  },
  {
   "cell_type": "code",
   "execution_count": 3,
   "metadata": {},
   "outputs": [
    {
     "name": "stdout",
     "output_type": "stream",
     "text": [
      "['byr', 'ecl', 'eyr', 'hcl', 'hgt', 'iyr', 'pid']\n"
     ]
    }
   ],
   "source": [
    "print(sorted(FIELDS_REQ))"
   ]
  },
  {
   "cell_type": "code",
   "execution_count": 4,
   "metadata": {},
   "outputs": [
    {
     "name": "stdout",
     "output_type": "stream",
     "text": [
      "1168\n"
     ]
    }
   ],
   "source": [
    "with open(\"./aoc_2004_prod.txt\") as f:\n",
    "    data=f.read().splitlines()\n",
    "    print(len(data))"
   ]
  },
  {
   "cell_type": "code",
   "execution_count": 5,
   "metadata": {},
   "outputs": [
    {
     "name": "stdout",
     "output_type": "stream",
     "text": [
      "1169\n"
     ]
    }
   ],
   "source": [
    "#If the last line is not empty, we need to add it avoiding loosing the last passport in the next step\n",
    "if (data[(len(data))-1] != ''):\n",
    "    data.append('')\n",
    "print(len(data))"
   ]
  },
  {
   "cell_type": "code",
   "execution_count": 6,
   "metadata": {},
   "outputs": [
    {
     "name": "stdout",
     "output_type": "stream",
     "text": [
      "Valid passports: 264\n"
     ]
    }
   ],
   "source": [
    "input=list()\n",
    "line=set()\n",
    "result=0\n",
    "for d in data:\n",
    "    if (d==''):\n",
    "        line2dict=dict(tuple(tuple(kv.split(':')) for kv in line))\n",
    "        if 'cid' in line2dict.keys():\n",
    "            line2dict.pop('cid')\n",
    "        #print(sorted(line2dict.keys()))\n",
    "        result+=int((set(line2dict.keys()))==FIELDS_REQ)\n",
    "        input.append(line2dict)\n",
    "        line=set()\n",
    "    else:\n",
    "        line.update({w for w in d.split()})\n",
    "   \n",
    "print(f\"Valid passports: {result}\")"
   ]
  },
  {
   "cell_type": "code",
   "execution_count": null,
   "metadata": {},
   "outputs": [],
   "source": []
  }
 ],
 "metadata": {
  "kernelspec": {
   "display_name": "Python 3",
   "language": "python",
   "name": "python3"
  },
  "language_info": {
   "codemirror_mode": {
    "name": "ipython",
    "version": 3
   },
   "file_extension": ".py",
   "mimetype": "text/x-python",
   "name": "python",
   "nbconvert_exporter": "python",
   "pygments_lexer": "ipython3",
   "version": "3.8.5"
  }
 },
 "nbformat": 4,
 "nbformat_minor": 4
}
